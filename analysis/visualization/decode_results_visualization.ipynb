{
 "cells": [
  {
   "cell_type": "code",
   "execution_count": 1,
   "id": "291ee707",
   "metadata": {},
   "outputs": [
    {
     "name": "stderr",
     "output_type": "stream",
     "text": [
      "/gpfs01/bartels/user/vplikat/anaconda3/lib/python3.8/site-packages/outdated/utils.py:14: OutdatedPackageWarning: The package pingouin is out of date. Your version is 0.4.0, the latest is 0.5.0.\n",
      "Set the environment variable OUTDATED_IGNORE=1 to disable these warnings.\n",
      "  return warn(\n"
     ]
    }
   ],
   "source": [
    "# FIRST STEP\n",
    "# interact with the operating system \n",
    "import os\n",
    "from pathlib import Path\n",
    "import git\n",
    "import glob\n",
    "import csv\n",
    "import h5py\n",
    "# data structuration and calculations\n",
    "import pandas as pd  # to create data frames\n",
    "import numpy as np   # most important numerical calculations\n",
    "import pingouin as pg\n",
    "from scipy import signal\n",
    "from scipy.spatial import distance\n",
    "from scipy import stats\n",
    "from itertools import combinations\n",
    "# importing torch to test stuff written by Peter\n",
    "import torch\n",
    "# read in mat files\n",
    "import readmat\n",
    "# needed to extract the run number out of the parentesis of the string in the SPM.mat file\n",
    "import re\n",
    "# optimize time performance\n",
    "import time\n",
    "# plotting\n",
    "import matplotlib.pyplot as plt"
   ]
  },
  {
   "cell_type": "code",
   "execution_count": 2,
   "id": "178e2199",
   "metadata": {},
   "outputs": [],
   "source": [
    "################################################\n",
    "# VARIABLES FOR PATH SELECTION AND DATA ACCESS #\n",
    "################################################\n",
    "HOME            = str(Path.home())\n",
    "# DATA\n",
    "PROJ_DIR        = os.path.join(HOME, 'Documents/Magic_fMRI/DATA/MRI')\n",
    "RAW_DIR         = os.path.join(PROJ_DIR, 'rawdata')\n",
    "DERIVATIVES_DIR = os.path.join(PROJ_DIR, 'derivatives')\n",
    "DATA_DIR = os.path.join(DERIVATIVES_DIR, 'decoding', 'decoding_magic')"
   ]
  },
  {
   "cell_type": "code",
   "execution_count": 3,
   "id": "3ea68405",
   "metadata": {},
   "outputs": [],
   "source": [
    "# define ROIs\n",
    "ROIS = [\n",
    "        'V1', 'V2', 'V3', 'hV4',  # Benson\n",
    "        'V3A', 'V3B', 'LO', 'VO', 'IPS',  # Benson\n",
    "        'PH',  # Glasser 12d,13d (inferior temporal gyrus, temporo-occipital division LR)\n",
    "        'IPC',  # Glasser 4d (anterior supramarginal gyrus L)\n",
    "        'IFJ', '44', '6r',  # Glasser d15, d16 (inferior frontal gyrus LR)\n",
    "        'BA6', 'FEF',  # Glasser 9d, 10d, 1p (superior/middle frontal gyrus LR)\n",
    "        'pACC', 'mACC', 'aACC', '8BM',  # Glasser 5d,6d,4p (ACC LR)\n",
    "        'AI', 'AVI',  # Glasser 7d,8d (anterior insula LR)\n",
    "        'IFS', '45', 'BA46',  # Glasser 3d, 3p (inferior frontal gyrus, pars triangularis L)\n",
    "        'BA8', 'BA9'  # Glasser 2p (middle frontal gyrus/DLPFC L)\n",
    "      ]"
   ]
  },
  {
   "cell_type": "code",
   "execution_count": 6,
   "id": "b932a7b0",
   "metadata": {},
   "outputs": [],
   "source": [
    "################\n",
    "# ROI decoding #\n",
    "################\n",
    "basenames = ['decode_effect', 'decode_magic_vs_nomagic']\n",
    "num_labels = [3,2]\n",
    "all_magic = 'all_videos'\n",
    "pre_revelation = 'pre_videos'\n",
    "post_revelation = 'post_videos'\n",
    "\n",
    "data = [pre_revelation, post_revelation, all_magic]\n",
    "\n",
    "over_objects = 'over_objects'\n",
    "over_tricks = 'over_tricks'\n",
    "\n",
    "over_what = [over_objects, over_tricks]"
   ]
  },
  {
   "cell_type": "code",
   "execution_count": 5,
   "id": "859ab8c6",
   "metadata": {},
   "outputs": [],
   "source": [
    "for base in basenames:\n",
    "    for runs in data:\n",
    "        for over in over_what:\n",
    "            path = os.path.join(DATA_DIR, base, runs,\n",
    "                               over, 'SpecialMoment',\n",
    "                               'ROI-analysis','group-statistics')\n",
    "            results = pd.read_csv(os.path.join(path,'max-statistic-results.csv'))\n",
    "            results.to_excel('./'+base+'_'+runs+'_'+over+'.xlsx')"
   ]
  },
  {
   "cell_type": "code",
   "execution_count": 17,
   "id": "73af95b9",
   "metadata": {
    "scrolled": true
   },
   "outputs": [
    {
     "name": "stdout",
     "output_type": "stream",
     "text": [
      "-----------------------------------------------------\n",
      "comparing decode_effect over_objects pre vs post\n",
      "-----------------------------------------------------\n",
      "Result of paired ttest on V1: t=2.2906398404943227(p=0.01574072529579111)\n",
      "Result of paired ttest on V2: t=2.0057054222221495(p=0.028395200901969887)\n",
      "Result of paired ttest on V3: t=1.4920438460404069(p=0.07463895783279192)\n",
      "Result of paired ttest on hV4: t=1.7473213726031(p=0.04696131460074827)\n",
      "Result of paired ttest on V3A: t=1.142128950577476(p=0.13257580760017268)\n",
      "Result of paired ttest on V3B: t=-0.16669276571644923(p=0.5654657007196561)\n",
      "Result of paired ttest on LO: t=1.118234843148387(p=0.13750541748672077)\n",
      "Result of paired ttest on VO: t=0.7833192168042086(p=0.2207158277492577)\n",
      "Result of paired ttest on FEF: t=0.23758048756796932(p=0.4071550444228087)\n",
      "Result of paired ttest on IPS: t=1.750947045985778(p=0.0466416260547749)\n",
      "Result of paired ttest on ACC: t=-0.35409263782551753(p=0.6367524667390507)\n",
      "Result of paired ttest on PCC: t=2.9766492973551784(p=0.0033749992002480066)\n",
      "Result of paired ttest on IFG: t=2.529526696851132(p=0.009365355687053366)\n",
      "Result of paired ttest on aINSULA: t=-1.3494212984776723(p=0.9048319919133647)\n",
      "Result of paired ttest on IFJ: t=3.1258381682214895(p=0.002373747794974473)\n",
      "Result of paired ttest on PHT: t=1.1910438809362958(p=0.1228916762566031)\n",
      "Result of paired ttest on PF: t=1.2916037872922324(p=0.10466194322636092)\n",
      "-----------------------------------------------------\n",
      "comparing decode_effect over_tricks pre vs post\n",
      "-----------------------------------------------------\n",
      "Result of paired ttest on V1: t=0.7295443956577925(p=0.23651685484364549)\n",
      "Result of paired ttest on V2: t=-0.4642951729784717(p=0.6765994310164509)\n",
      "Result of paired ttest on V3: t=0.39707445244734424(p=0.34748663719666795)\n",
      "Result of paired ttest on hV4: t=-0.49548497177104456(p=0.6875205586152868)\n",
      "Result of paired ttest on V3A: t=0.3204635863285098(p=0.37575515295875905)\n",
      "Result of paired ttest on V3B: t=0.6272246951603834(p=0.26834472044764723)\n",
      "Result of paired ttest on LO: t=-0.2749332172695651(p=0.6070889129854851)\n",
      "Result of paired ttest on VO: t=-0.2980860966668966(p=0.6158431799342664)\n",
      "Result of paired ttest on FEF: t=0.5910968740052992(p=0.2801101512531392)\n",
      "Result of paired ttest on IPS: t=0.872759301724041(p=0.19590750415757374)\n",
      "Result of paired ttest on ACC: t=0.8162600181005316(p=0.21136268052447688)\n",
      "Result of paired ttest on PCC: t=1.1645563284886622(p=0.12806806312789626)\n",
      "Result of paired ttest on IFG: t=0.8579899891762903(p=0.19987547462190464)\n",
      "Result of paired ttest on aINSULA: t=-0.7988944056167848(p=0.7837377354240709)\n",
      "Result of paired ttest on IFJ: t=1.0004014250751285(p=0.16376286285636027)\n",
      "Result of paired ttest on PHT: t=0.49668909263807604(p=0.3120612324501908)\n",
      "Result of paired ttest on PF: t=0.08148449462162413(p=0.4678808004159047)\n",
      "-----------------------------------------------------\n",
      "comparing decode_magic_vs_nomagic over_objects pre vs post\n",
      "-----------------------------------------------------\n",
      "Result of paired ttest on V1: t=-1.427086059174438(p=0.9165044690598596)\n",
      "Result of paired ttest on V2: t=-1.395434574567012(p=0.9118934449770945)\n",
      "Result of paired ttest on V3: t=-2.733961549688708(p=0.9940854259299284)\n",
      "Result of paired ttest on hV4: t=-0.5850792732250644(p=0.717904521065097)\n",
      "Result of paired ttest on V3A: t=-1.6187196065276288(p=0.940429791440878)\n",
      "Result of paired ttest on V3B: t=-2.7061936392709294(p=0.9936997293327008)\n",
      "Result of paired ttest on LO: t=-1.5554839207694193(p=0.9332575975958624)\n",
      "Result of paired ttest on VO: t=1.2129622313543569(p=0.11872780630213545)\n",
      "Result of paired ttest on FEF: t=-0.966671025257604(p=0.8281180221594207)\n",
      "Result of paired ttest on IPS: t=-1.760375136625789(p=0.9541809802069513)\n",
      "Result of paired ttest on ACC: t=-1.667999094162262(p=0.9455623866881251)\n",
      "Result of paired ttest on PCC: t=-1.9148186945678083(p=0.9659828258158546)\n",
      "Result of paired ttest on IFG: t=-1.2302047540142884(p=0.8844724238731485)\n",
      "Result of paired ttest on aINSULA: t=-1.2026851168246406(p=0.8793332403207816)\n",
      "Result of paired ttest on IFJ: t=-1.3649914794793132(p=0.9072697015140119)\n",
      "Result of paired ttest on PHT: t=-1.7697885440733518(p=0.9549898749775705)\n",
      "Result of paired ttest on PF: t=-3.1605606379947044(p=0.9978144045036991)\n",
      "-----------------------------------------------------\n",
      "comparing decode_magic_vs_nomagic over_tricks pre vs post\n",
      "-----------------------------------------------------\n",
      "Result of paired ttest on V1: t=-0.21578308474337146(p=0.584470490054144)\n",
      "Result of paired ttest on V2: t=0.6270952726533107(p=0.26838639110098417)\n",
      "Result of paired ttest on V3: t=-1.1268623693898903(p=0.8642897187051657)\n",
      "Result of paired ttest on hV4: t=0.8498979909571877(p=0.20207120443831716)\n",
      "Result of paired ttest on V3A: t=-0.8605519397939917(p=0.8008164999310936)\n",
      "Result of paired ttest on V3B: t=-1.3414963231897625(p=0.9035720566530209)\n",
      "Result of paired ttest on LO: t=-1.496756301071129(p=0.9259726854691416)\n",
      "Result of paired ttest on VO: t=2.121552667465096(p=0.022432692729715476)\n",
      "Result of paired ttest on FEF: t=-0.725758568384449(p=0.7623462027685939)\n",
      "Result of paired ttest on IPS: t=-1.7526180404471783(p=0.9535050837682867)\n",
      "Result of paired ttest on ACC: t=-0.46226912320581887(p=0.6758842207016915)\n",
      "Result of paired ttest on PCC: t=-0.42495583143291565(p=0.6625909119760223)\n",
      "Result of paired ttest on IFG: t=-0.21961722549759777(p=0.5859466418189833)\n",
      "Result of paired ttest on aINSULA: t=0.922936305416445(p=0.18281090728129362)\n",
      "Result of paired ttest on IFJ: t=-1.3700886827764593(p=0.9080569524694229)\n",
      "Result of paired ttest on PHT: t=-0.8690184814770953(p=0.8030923229112579)\n",
      "Result of paired ttest on PF: t=-1.3584473487126552(p=0.906251195794983)\n"
     ]
    },
    {
     "data": {
      "image/png": "[encoded data removed]",
      "text/plain": [
       "<Figure size 432x288 with 1 Axes>"
      ]
     },
     "metadata": {
      "needs_background": "light"
     },
     "output_type": "display_data"
    },
    {
     "data": {
      "image/png": "[encoded data removed]",
      "text/plain": [
       "<Figure size 432x288 with 1 Axes>"
      ]
     },
     "metadata": {
      "needs_background": "light"
     },
     "output_type": "display_data"
    },
    {
     "data": {
      "image/png": "[encoded data removed]",
      "text/plain": [
       "<Figure size 432x288 with 1 Axes>"
      ]
     },
     "metadata": {
      "needs_background": "light"
     },
     "output_type": "display_data"
    },
    {
     "data": {
      "image/png": "[encoded data removed]",
      "text/plain": [
       "<Figure size 432x288 with 1 Axes>"
      ]
     },
     "metadata": {
      "needs_background": "light"
     },
     "output_type": "display_data"
    }
   ],
   "source": [
    "for base in basenames:\n",
    "    for over in over_what:\n",
    "        print('-----------------------------------------------------')\n",
    "        print('comparing ' + base +' '+ over + ' pre vs post')\n",
    "        print('-----------------------------------------------------')\n",
    "        ps = []\n",
    "        path_pre = os.path.join(DATA_DIR, base, pre_revelation,\n",
    "                           over, 'SpecialMoment',\n",
    "                           'ROI-analysis','group-statistics')\n",
    "        path_post = os.path.join(DATA_DIR, base, post_revelation,\n",
    "                                   over, 'SpecialMoment',\n",
    "                                   'ROI-analysis','group-statistics')\n",
    "        res_pre = pd.read_csv(os.path.join(path_pre,'accuracies.csv'))\n",
    "        res_post = pd.read_csv(os.path.join(path_post,'accuracies.csv'))\n",
    "        for roi in ROIS:\n",
    "            ttest_res = pg.ttest(x=res_pre[roi],y=res_post[roi],paired=True,alternative='greater')\n",
    "            print('Result of paired ttest on {}: t={}(p={})'.format(roi,\n",
    "                                                                ttest_res['T'].values[0], \n",
    "                                                                ttest_res['p-val'].values[0]))\n",
    "            ps.append(ttest_res['p-val'].values[0])\n",
    "        fig = plt.figure()\n",
    "        plt.hist(ps);"
   ]
  },
  {
   "cell_type": "code",
   "execution_count": 60,
   "id": "8efd56f7",
   "metadata": {
    "scrolled": true
   },
   "outputs": [
    {
     "name": "stdout",
     "output_type": "stream",
     "text": [
      "\n",
      "\n",
      "--------------------------------------------------\n",
      "T-test accuracy in ventricle against chance:decode_effect over_objects pre_videos\n",
      "--------------------------------------------------\n",
      "t=1.959239824435787(p=0.031157554701296553)\n",
      "mean accuracy = 0.3587962962962963\n",
      "\n",
      "\n",
      "--------------------------------------------------\n",
      "T-test accuracy in ventricle against chance:decode_effect over_tricks pre_videos\n",
      "--------------------------------------------------\n",
      "t=-0.25943509165072176(p=0.60119619746551)\n",
      "mean accuracy = 0.3304398148148148\n",
      "\n",
      "\n",
      "--------------------------------------------------\n",
      "T-test accuracy in ventricle against chance:decode_effect over_objects post_videos\n",
      "--------------------------------------------------\n",
      "t=1.1927616745901704(p=0.12256144880663165)\n",
      "mean accuracy = 0.34722222222222227\n",
      "\n",
      "\n",
      "--------------------------------------------------\n",
      "T-test accuracy in ventricle against chance:decode_effect over_tricks post_videos\n",
      "--------------------------------------------------\n",
      "t=1.3571391251074552(p=0.09395346381473724)\n",
      "mean accuracy = 0.3460648148148148\n",
      "\n",
      "\n",
      "--------------------------------------------------\n",
      "T-test accuracy in ventricle against chance:decode_effect over_objects all_videos\n",
      "--------------------------------------------------\n",
      "t=1.9940122945962258(p=0.029069116875784406)\n",
      "mean accuracy = 0.35271990740740744\n",
      "\n",
      "\n",
      "--------------------------------------------------\n",
      "T-test accuracy in ventricle against chance:decode_effect over_tricks all_videos\n",
      "--------------------------------------------------\n",
      "t=-0.47402230677803403(p=0.6800234588779626)\n",
      "mean accuracy = 0.3289930555555556\n",
      "\n",
      "\n",
      "--------------------------------------------------\n",
      "T-test accuracy in ventricle against chance:decode_magic_vs_nomagic over_objects pre_videos\n",
      "--------------------------------------------------\n",
      "t=1.9674443949618685(p=0.030653198018696832)\n",
      "mean accuracy = 0.521701388888889\n",
      "\n",
      "\n",
      "--------------------------------------------------\n",
      "T-test accuracy in ventricle against chance:decode_magic_vs_nomagic over_tricks pre_videos\n",
      "--------------------------------------------------\n",
      "t=1.6935383768278673(p=0.05192761591793898)\n",
      "mean accuracy = 0.5191822066822067\n",
      "\n",
      "\n",
      "--------------------------------------------------\n",
      "T-test accuracy in ventricle against chance:decode_magic_vs_nomagic over_objects post_videos\n",
      "--------------------------------------------------\n",
      "Normality not given\n",
      "t=2.0799761579946647(p=0.024429523767303837)\n",
      "mean accuracy = 0.5199652777777778\n",
      "\n",
      "\n",
      "--------------------------------------------------\n",
      "T-test accuracy in ventricle against chance:decode_magic_vs_nomagic over_tricks post_videos\n",
      "--------------------------------------------------\n",
      "t=1.8979342669281265(p=0.035163038903930376)\n",
      "mean accuracy = 0.5214403651903652\n",
      "\n",
      "\n",
      "--------------------------------------------------\n",
      "T-test accuracy in ventricle against chance:decode_magic_vs_nomagic over_objects all_videos\n",
      "--------------------------------------------------\n",
      "t=3.623967491060907(p=0.0007119457366038514)\n",
      "mean accuracy = 0.5238715277777778\n",
      "\n",
      "\n",
      "--------------------------------------------------\n",
      "T-test accuracy in ventricle against chance:decode_magic_vs_nomagic over_tricks all_videos\n",
      "--------------------------------------------------\n",
      "t=2.950125740797266(p=0.0035910203889922806)\n",
      "mean accuracy = 0.5211004273504273\n"
     ]
    },
    {
     "data": {
      "image/png": "[encoded data removed]",
      "text/plain": [
       "<Figure size 432x288 with 1 Axes>"
      ]
     },
     "metadata": {
      "needs_background": "light"
     },
     "output_type": "display_data"
    },
    {
     "data": {
      "image/png": "[encoded data removed]",
      "text/plain": [
       "<Figure size 432x288 with 1 Axes>"
      ]
     },
     "metadata": {
      "needs_background": "light"
     },
     "output_type": "display_data"
    },
    {
     "data": {
      "image/png": "[encoded data removed]",
      "text/plain": [
       "<Figure size 432x288 with 1 Axes>"
      ]
     },
     "metadata": {
      "needs_background": "light"
     },
     "output_type": "display_data"
    },
    {
     "data": {
      "image/png": "[encoded data removed]",
      "text/plain": [
       "<Figure size 432x288 with 1 Axes>"
      ]
     },
     "metadata": {
      "needs_background": "light"
     },
     "output_type": "display_data"
    },
    {
     "data": {
      "image/png": "[encoded data removed]",
      "text/plain": [
       "<Figure size 432x288 with 1 Axes>"
      ]
     },
     "metadata": {
      "needs_background": "light"
     },
     "output_type": "display_data"
    },
    {
     "data": {
      "image/png": "[encoded data removed]",
      "text/plain": [
       "<Figure size 432x288 with 1 Axes>"
      ]
     },
     "metadata": {
      "needs_background": "light"
     },
     "output_type": "display_data"
    },
    {
     "data": {
      "image/png": "[encoded data removed]",
      "text/plain": [
       "<Figure size 432x288 with 1 Axes>"
      ]
     },
     "metadata": {
      "needs_background": "light"
     },
     "output_type": "display_data"
    },
    {
     "data": {
      "image/png": "[encoded data removed]",
      "text/plain": [
       "<Figure size 432x288 with 1 Axes>"
      ]
     },
     "metadata": {
      "needs_background": "light"
     },
     "output_type": "display_data"
    },
    {
     "data": {
      "image/png": "[encoded data removed]",
      "text/plain": [
       "<Figure size 432x288 with 1 Axes>"
      ]
     },
     "metadata": {
      "needs_background": "light"
     },
     "output_type": "display_data"
    },
    {
     "data": {
      "image/png": "[encoded data removed]",
      "text/plain": [
       "<Figure size 432x288 with 1 Axes>"
      ]
     },
     "metadata": {
      "needs_background": "light"
     },
     "output_type": "display_data"
    },
    {
     "data": {
      "image/png": "[encoded data removed]",
      "text/plain": [
       "<Figure size 432x288 with 1 Axes>"
      ]
     },
     "metadata": {
      "needs_background": "light"
     },
     "output_type": "display_data"
    },
    {
     "data": {
      "image/png": "[encoded data removed]",
      "text/plain": [
       "<Figure size 432x288 with 1 Axes>"
      ]
     },
     "metadata": {
      "needs_background": "light"
     },
     "output_type": "display_data"
    }
   ],
   "source": [
    "ps_dict = {\n",
    "    'what':[],\n",
    "    'over':[],\n",
    "    'data':[],\n",
    "    'p-vals':[]\n",
    "}\n",
    "\n",
    "for base, labels in zip(basenames,num_labels):\n",
    "    for runs in data:\n",
    "        for over in over_what:\n",
    "            \n",
    "            print('\\n')\n",
    "            print('--------------------------------------------------')\n",
    "            print('T-test accuracy in ventricle against chance:' + base +' '+ over + ' ' + runs)\n",
    "            print('--------------------------------------------------')\n",
    "            path = os.path.join(DATA_DIR, base, runs,\n",
    "                               over, 'SpecialMoment',\n",
    "                               'ROI-analysis')\n",
    "            subjects = glob.glob(os.path.join(path,'sub-*'))\n",
    "            subjects.sort()\n",
    "            accuracies = []\n",
    "            for sub in subjects:\n",
    "                ventricle = os.path.join(sub,'3rd-ventricle.hdf5')\n",
    "                res = h5py.File(ventricle,'r')\n",
    "                accuracies.append(res['accuracy'][()])\n",
    "            norm = pg.normality(accuracies)\n",
    "            ttest_res = pg.ttest(x=accuracies,y=1/labels,alternative='greater')\n",
    "            \n",
    "            ps_dict['what'].append(base)\n",
    "            ps_dict['over'].append(over)\n",
    "            ps_dict['data'].append(runs)\n",
    "            ps_dict['p-vals'].append(ttest_res['p-val'].values[0])\n",
    "            \n",
    "            if not norm.normal.values:\n",
    "                print('Normality not given')\n",
    "            print('t={}(p={})'.format(ttest_res['T'].values[0], \n",
    "                                      ttest_res['p-val'].values[0]))\n",
    "            print('mean accuracy = {}'.format(np.mean(accuracies)))\n",
    "            fig = plt.figure()\n",
    "            hist = plt.hist(accuracies)\n",
    "            plt.vlines(x=(1/labels),ymin=0,ymax=max(hist[0]),color='red')"
   ]
  },
  {
   "cell_type": "code",
   "execution_count": 61,
   "id": "8f0c0255",
   "metadata": {},
   "outputs": [
    {
     "data": {
      "text/html": [
       "<div>\n",
       "<style scoped>\n",
       "    .dataframe tbody tr th:only-of-type {\n",
       "        vertical-align: middle;\n",
       "    }\n",
       "\n",
       "    .dataframe tbody tr th {\n",
       "        vertical-align: top;\n",
       "    }\n",
       "\n",
       "    .dataframe thead th {\n",
       "        text-align: right;\n",
       "    }\n",
       "</style>\n",
       "<table border=\"1\" class=\"dataframe\">\n",
       "  <thead>\n",
       "    <tr style=\"text-align: right;\">\n",
       "      <th></th>\n",
       "      <th>what</th>\n",
       "      <th>over</th>\n",
       "      <th>data</th>\n",
       "      <th>p-vals</th>\n",
       "    </tr>\n",
       "  </thead>\n",
       "  <tbody>\n",
       "    <tr>\n",
       "      <th>0</th>\n",
       "      <td>decode_effect</td>\n",
       "      <td>over_objects</td>\n",
       "      <td>pre_videos</td>\n",
       "      <td>0.031158</td>\n",
       "    </tr>\n",
       "    <tr>\n",
       "      <th>1</th>\n",
       "      <td>decode_effect</td>\n",
       "      <td>over_tricks</td>\n",
       "      <td>pre_videos</td>\n",
       "      <td>0.601196</td>\n",
       "    </tr>\n",
       "    <tr>\n",
       "      <th>2</th>\n",
       "      <td>decode_effect</td>\n",
       "      <td>over_objects</td>\n",
       "      <td>post_videos</td>\n",
       "      <td>0.122561</td>\n",
       "    </tr>\n",
       "    <tr>\n",
       "      <th>3</th>\n",
       "      <td>decode_effect</td>\n",
       "      <td>over_tricks</td>\n",
       "      <td>post_videos</td>\n",
       "      <td>0.093953</td>\n",
       "    </tr>\n",
       "    <tr>\n",
       "      <th>4</th>\n",
       "      <td>decode_effect</td>\n",
       "      <td>over_objects</td>\n",
       "      <td>all_videos</td>\n",
       "      <td>0.029069</td>\n",
       "    </tr>\n",
       "    <tr>\n",
       "      <th>5</th>\n",
       "      <td>decode_effect</td>\n",
       "      <td>over_tricks</td>\n",
       "      <td>all_videos</td>\n",
       "      <td>0.680023</td>\n",
       "    </tr>\n",
       "    <tr>\n",
       "      <th>6</th>\n",
       "      <td>decode_magic_vs_nomagic</td>\n",
       "      <td>over_objects</td>\n",
       "      <td>pre_videos</td>\n",
       "      <td>0.030653</td>\n",
       "    </tr>\n",
       "    <tr>\n",
       "      <th>7</th>\n",
       "      <td>decode_magic_vs_nomagic</td>\n",
       "      <td>over_tricks</td>\n",
       "      <td>pre_videos</td>\n",
       "      <td>0.051928</td>\n",
       "    </tr>\n",
       "    <tr>\n",
       "      <th>8</th>\n",
       "      <td>decode_magic_vs_nomagic</td>\n",
       "      <td>over_objects</td>\n",
       "      <td>post_videos</td>\n",
       "      <td>0.024430</td>\n",
       "    </tr>\n",
       "    <tr>\n",
       "      <th>9</th>\n",
       "      <td>decode_magic_vs_nomagic</td>\n",
       "      <td>over_tricks</td>\n",
       "      <td>post_videos</td>\n",
       "      <td>0.035163</td>\n",
       "    </tr>\n",
       "    <tr>\n",
       "      <th>10</th>\n",
       "      <td>decode_magic_vs_nomagic</td>\n",
       "      <td>over_objects</td>\n",
       "      <td>all_videos</td>\n",
       "      <td>0.000712</td>\n",
       "    </tr>\n",
       "    <tr>\n",
       "      <th>11</th>\n",
       "      <td>decode_magic_vs_nomagic</td>\n",
       "      <td>over_tricks</td>\n",
       "      <td>all_videos</td>\n",
       "      <td>0.003591</td>\n",
       "    </tr>\n",
       "  </tbody>\n",
       "</table>\n",
       "</div>"
      ],
      "text/plain": [
       "                       what          over         data    p-vals\n",
       "0             decode_effect  over_objects   pre_videos  0.031158\n",
       "1             decode_effect   over_tricks   pre_videos  0.601196\n",
       "2             decode_effect  over_objects  post_videos  0.122561\n",
       "3             decode_effect   over_tricks  post_videos  0.093953\n",
       "4             decode_effect  over_objects   all_videos  0.029069\n",
       "5             decode_effect   over_tricks   all_videos  0.680023\n",
       "6   decode_magic_vs_nomagic  over_objects   pre_videos  0.030653\n",
       "7   decode_magic_vs_nomagic   over_tricks   pre_videos  0.051928\n",
       "8   decode_magic_vs_nomagic  over_objects  post_videos  0.024430\n",
       "9   decode_magic_vs_nomagic   over_tricks  post_videos  0.035163\n",
       "10  decode_magic_vs_nomagic  over_objects   all_videos  0.000712\n",
       "11  decode_magic_vs_nomagic   over_tricks   all_videos  0.003591"
      ]
     },
     "execution_count": 61,
     "metadata": {},
     "output_type": "execute_result"
    }
   ],
   "source": [
    "ps_df = pd.DataFrame(data=ps_dict,columns=ps_dict.keys())\n",
    "ps_df"
   ]
  },
  {
   "cell_type": "code",
   "execution_count": 75,
   "id": "f22cddb7",
   "metadata": {
    "scrolled": true
   },
   "outputs": [
    {
     "name": "stdout",
     "output_type": "stream",
     "text": [
      "decode_effect pre_videos over_objects\n",
      "0.3587962962962963\n",
      "0.022977022977022976\n",
      "decode_effect pre_videos over_tricks\n",
      "0.3304398148148148\n",
      "0.5844155844155844\n",
      "decode_effect post_videos over_objects\n",
      "0.34722222222222227\n",
      "0.15084915084915085\n",
      "decode_effect post_videos over_tricks\n",
      "0.3460648148148148\n",
      "0.16283716283716285\n",
      "decode_effect all_videos over_objects\n",
      "0.35271990740740744\n",
      "0.015984015984015984\n",
      "decode_effect all_videos over_tricks\n",
      "0.3289930555555556\n",
      "0.6673326673326674\n",
      "decode_magic_vs_nomagic pre_videos over_objects\n",
      "0.521701388888889\n",
      "0.014985014985014986\n",
      "decode_magic_vs_nomagic pre_videos over_tricks\n",
      "0.5191822066822067\n",
      "0.03396603396603397\n",
      "decode_magic_vs_nomagic post_videos over_objects\n",
      "0.5199652777777778\n",
      "0.027972027972027972\n",
      "decode_magic_vs_nomagic post_videos over_tricks\n",
      "0.5214403651903652\n",
      "0.017982017982017984\n",
      "decode_magic_vs_nomagic all_videos over_objects\n",
      "0.5238715277777778\n",
      "0.000999000999000999\n",
      "decode_magic_vs_nomagic all_videos over_tricks\n",
      "0.5211004273504273\n",
      "0.003996003996003996\n"
     ]
    }
   ],
   "source": [
    "for base, labels in zip(basenames,num_labels):\n",
    "    for runs in data:\n",
    "        for over in over_what:\n",
    "            path = os.path.join(DATA_DIR, base, runs,\n",
    "                               over, 'SpecialMoment',\n",
    "                               'ROI-analysis')\n",
    "            subjects = glob.glob(os.path.join(path,'sub-*'))\n",
    "            subjects.sort()\n",
    "            accuracies = []\n",
    "            null_distributions = []\n",
    "            for sub in subjects:\n",
    "                ventricle = os.path.join(sub,'3rd-ventricle.hdf5')\n",
    "                res = h5py.File(ventricle,'r')\n",
    "                accuracies.append(res['accuracy'][()])\n",
    "                null_distributions.append(res['null_distribution'][()])\n",
    "\n",
    "            mean_accuracy = np.mean(accuracies)\n",
    "            mean_null_distribution = np.mean(null_distributions,axis=0)\n",
    "            \n",
    "            p = sum(mean_null_distribution>mean_accuracy)\n",
    "            p = (p+1)/(mean_null_distribution.shape[0]+1)\n",
    "            print(base+' '+runs+' '+over)\n",
    "            print(mean_accuracy)\n",
    "            print(p)\n",
    "            #print(np.argsort(accuracies))"
   ]
  },
  {
   "cell_type": "code",
   "execution_count": 103,
   "id": "f3fb930d",
   "metadata": {
    "scrolled": true
   },
   "outputs": [
    {
     "name": "stdout",
     "output_type": "stream",
     "text": [
      "decode_magic_vs_nomagic pre_videos over_objects\n",
      "0.5159143518518519\n",
      "0.06493506493506493\n"
     ]
    }
   ],
   "source": [
    "base = 'decode_magic_vs_nomagic'\n",
    "runs = 'pre_videos'\n",
    "over = 'over_objects'\n",
    "path = os.path.join(DATA_DIR, base, runs,\n",
    "                   over, 'SpecialMoment',\n",
    "                   'ROI-analysis')\n",
    "subjects = glob.glob(os.path.join(path,'sub-*'))\n",
    "subjects.sort()\n",
    "accuracies = []\n",
    "null_distributions = []\n",
    "for sub in subjects:\n",
    "    ventricle = os.path.join(sub,'L_A1_ROI.hdf5')\n",
    "    res = h5py.File(ventricle,'r')\n",
    "    accuracies.append(res['accuracy'][()])\n",
    "    null_distributions.append(res['null_distribution'][()])\n",
    "\n",
    "mean_accuracy = np.mean(accuracies)\n",
    "mean_null_distribution = np.mean(null_distributions,axis=0)\n",
    "\n",
    "p = sum(mean_null_distribution>mean_accuracy)\n",
    "p = (p+1)/(mean_null_distribution.shape[0]+1)\n",
    "print(base+' '+runs+' '+over)\n",
    "print(mean_accuracy)\n",
    "print(p)\n",
    "#print(np.argsort(accuracies))"
   ]
  },
  {
   "cell_type": "code",
   "execution_count": 100,
   "id": "6517904f",
   "metadata": {},
   "outputs": [
    {
     "data": {
      "text/plain": [
       "0.5555555555555555"
      ]
     },
     "execution_count": 100,
     "metadata": {},
     "output_type": "execute_result"
    }
   ],
   "source": [
    "res['accuracy'][()]"
   ]
  }
 ],
 "metadata": {
  "kernelspec": {
   "display_name": "Python 3 (ipykernel)",
   "language": "python",
   "name": "python3"
  },
  "language_info": {
   "codemirror_mode": {
    "name": "ipython",
    "version": 3
   },
   "file_extension": ".py",
   "mimetype": "text/x-python",
   "name": "python",
   "nbconvert_exporter": "python",
   "pygments_lexer": "ipython3",
   "version": "3.8.11"
  }
 },
 "nbformat": 4,
 "nbformat_minor": 5
}
