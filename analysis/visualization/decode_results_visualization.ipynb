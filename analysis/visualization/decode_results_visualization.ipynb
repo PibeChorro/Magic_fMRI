{
 "cells": [
  {
   "cell_type": "code",
   "execution_count": 1,
   "id": "291ee707",
   "metadata": {},
   "outputs": [
    {
     "name": "stderr",
     "output_type": "stream",
     "text": [
      "/gpfs01/bartels/user/vplikat/anaconda3/lib/python3.8/site-packages/outdated/utils.py:14: OutdatedPackageWarning: The package pingouin is out of date. Your version is 0.5.0, the latest is 0.5.1.\n",
      "Set the environment variable OUTDATED_IGNORE=1 to disable these warnings.\n",
      "  return warn(\n"
     ]
    }
   ],
   "source": [
    "# FIRST STEP\n",
    "# interact with the operating system \n",
    "import os\n",
    "from pathlib import Path\n",
    "import git\n",
    "import glob\n",
    "import csv\n",
    "import h5py\n",
    "# data structuration and calculations\n",
    "import pandas as pd  # to create data frames\n",
    "import numpy as np   # most important numerical calculations\n",
    "import pingouin as pg\n",
    "from scipy import signal\n",
    "from scipy.spatial import distance\n",
    "from scipy import stats\n",
    "from itertools import combinations\n",
    "# importing torch to test stuff written by Peter\n",
    "import torch\n",
    "# read in mat files\n",
    "import readmat\n",
    "# needed to extract the run number out of the parentesis of the string in the SPM.mat file\n",
    "import re\n",
    "# optimize time performance\n",
    "import time\n",
    "# plotting\n",
    "import matplotlib.pyplot as plt"
   ]
  },
  {
   "cell_type": "code",
   "execution_count": 2,
   "id": "178e2199",
   "metadata": {},
   "outputs": [],
   "source": [
    "################################################\n",
    "# VARIABLES FOR PATH SELECTION AND DATA ACCESS #\n",
    "################################################\n",
    "HOME            = str(Path.home())\n",
    "# DATA\n",
    "PROJ_DIR        = os.path.join(HOME, 'Documents/Magic_fMRI/DATA/MRI')\n",
    "RAW_DIR         = os.path.join(PROJ_DIR, 'rawdata')\n",
    "DERIVATIVES_DIR = os.path.join(PROJ_DIR, 'derivatives')\n",
    "DATA_DIR = os.path.join(DERIVATIVES_DIR, 'decoding', 'decoding_magic')"
   ]
  },
  {
   "cell_type": "code",
   "execution_count": 6,
   "id": "3ea68405",
   "metadata": {},
   "outputs": [],
   "source": [
    "# define ROIs\n",
    "ROIS = [\n",
    "        'V1', 'V2', 'V3', 'hV4',  # Benson\n",
    "        'V3A', 'V3B', 'LO', 'VO', 'IPS',  # Benson\n",
    "        'PH',  # Glasser 12d,13d (inferior temporal gyrus, temporo-occipital division LR)\n",
    "        'IPC',  # Glasser 4d (anterior supramarginal gyrus L)\n",
    "        'IFJ', #'44', \n",
    "        '6r',  # Glasser d15, d16 (inferior frontal gyrus LR)\n",
    "        'BA6', 'FEF',  # Glasser 9d, 10d, 1p (superior/middle frontal gyrus LR)\n",
    "        'pACC', 'mACC', 'aACC', '8BM',  # Glasser 5d,6d,4p (ACC LR)\n",
    "        'AI', 'AVI',  # Glasser 7d,8d (anterior insula LR)\n",
    "        'IFS', #'45', 'BA46',  # Glasser 3d, 3p (inferior frontal gyrus, pars triangularis L)\n",
    "        'A8', #'BA9'  # Glasser 2p (middle frontal gyrus/DLPFC L)\n",
    "      ]"
   ]
  },
  {
   "cell_type": "code",
   "execution_count": 4,
   "id": "b932a7b0",
   "metadata": {},
   "outputs": [],
   "source": [
    "################\n",
    "# ROI decoding #\n",
    "################\n",
    "basenames = ['decode_effect', 'decode_magic_vs_nomagic']\n",
    "num_labels = [3,2]\n",
    "all_magic = 'all_videos'\n",
    "pre_revelation = 'pre_videos'\n",
    "post_revelation = 'post_videos'\n",
    "\n",
    "data = [pre_revelation, post_revelation, all_magic]\n",
    "\n",
    "over_objects = 'over_objects'\n",
    "over_tricks = 'over_tricks'\n",
    "\n",
    "over_what = [over_objects, over_tricks]"
   ]
  },
  {
   "cell_type": "code",
   "execution_count": 5,
   "id": "859ab8c6",
   "metadata": {},
   "outputs": [],
   "source": [
    "for base in basenames:\n",
    "    for runs in data:\n",
    "        for over in over_what:\n",
    "            path = os.path.join(DATA_DIR, base, runs,\n",
    "                               over, 'SpecialMoment',\n",
    "                               'ROI-analysis','group-statistics')\n",
    "            results = pd.read_csv(os.path.join(path,'max-statistic-results.csv'))\n",
    "            results.to_excel('./'+base+'_'+runs+'_'+over+'.xlsx')"
   ]
  },
  {
   "cell_type": "code",
   "execution_count": 7,
   "id": "73af95b9",
   "metadata": {
    "scrolled": true
   },
   "outputs": [
    {
     "name": "stdout",
     "output_type": "stream",
     "text": [
      "-----------------------------------------------------\n",
      "comparing decode_effect over_objects pre vs post\n",
      "-----------------------------------------------------\n",
      "Result of paired ttest on V1: t=2.8992322572910503(p=0.004043075559863255)\n",
      "Result of paired ttest on V2: t=3.169215620398651(p=0.0021409864530612804)\n",
      "Result of paired ttest on V3: t=0.8764314343284716(p=0.19492889861669527)\n",
      "Result of paired ttest on hV4: t=0.8375187121619522(p=0.2054599254565379)\n",
      "Result of paired ttest on V3A: t=0.1565193824167845(p=0.43849470907593535)\n",
      "Result of paired ttest on V3B: t=0.8776872610615145(p=0.19459495536429822)\n",
      "Result of paired ttest on LO: t=2.3437154813108902(p=0.014051048689175496)\n",
      "Result of paired ttest on VO: t=1.1654155927653398(p=0.12789764136397427)\n",
      "Result of paired ttest on IPS: t=2.619738250657625(p=0.0076584693825464)\n",
      "Result of paired ttest on PH: t=3.1345243209212157(p=0.0023252652543150694)\n",
      "Result of paired ttest on IPC: t=1.6862540782415463(p=0.05263333013647803)\n",
      "Result of paired ttest on IFJ: t=3.9854708505460805(p=0.00029160279097902096)\n",
      "Result of paired ttest on 6r: t=1.0677635360583768(p=0.14835345009681017)\n",
      "Result of paired ttest on BA6: t=0.8289754490297402(p=0.20781943482530674)\n",
      "Result of paired ttest on FEF: t=-0.7783660183593482(p=0.7778561940048909)\n",
      "Result of paired ttest on pACC: t=0.8106434833777783(p=0.21293971478606938)\n",
      "Result of paired ttest on mACC: t=0.44015874395764554(p=0.33196544246469123)\n",
      "Result of paired ttest on aACC: t=1.2350662334612943(p=0.1146371913904341)\n",
      "Result of paired ttest on 8BM: t=-0.15982198795379646(p=0.5627917078975867)\n",
      "Result of paired ttest on AI: t=0.7040523099688086(p=0.24423390572261428)\n",
      "Result of paired ttest on AVI: t=-0.14535492555044283(p=0.5571515089310749)\n",
      "Result of paired ttest on IFS: t=2.787904911058382(p=0.005228204349294875)\n",
      "Result of paired ttest on A8: t=0.4146539464929179(p=0.3411186719564878)\n"
     ]
    },
    {
     "data": {
      "image/png": "[encoded data removed]",
      "text/plain": [
       "<Figure size 432x288 with 1 Axes>"
      ]
     },
     "metadata": {
      "needs_background": "light"
     },
     "output_type": "display_data"
    }
   ],
   "source": [
    "basenames = ['decode_effect']\n",
    "over_what = [over_objects]\n",
    "for base in basenames:\n",
    "    for over in over_what:\n",
    "        print('-----------------------------------------------------')\n",
    "        print('comparing ' + base +' '+ over + ' pre vs post')\n",
    "        print('-----------------------------------------------------')\n",
    "        ps = []\n",
    "        path_pre = os.path.join(DATA_DIR, base, pre_revelation,\n",
    "                           over, 'SpecialMoment',\n",
    "                           'ROI-analysis','group-statistics')\n",
    "        path_post = os.path.join(DATA_DIR, base, post_revelation,\n",
    "                                   over, 'SpecialMoment',\n",
    "                                   'ROI-analysis','group-statistics')\n",
    "        res_pre = pd.read_csv(os.path.join(path_pre,'accuracies.csv'))\n",
    "        res_post = pd.read_csv(os.path.join(path_post,'accuracies.csv'))\n",
    "        for roi in ROIS:\n",
    "            ttest_res = pg.ttest(x=res_pre[roi],y=res_post[roi],paired=True,alternative='greater')\n",
    "            print('Result of paired ttest on {}: t={}(p={})'.format(roi,\n",
    "                                                                ttest_res['T'].values[0], \n",
    "                                                                ttest_res['p-val'].values[0]))\n",
    "            ps.append(ttest_res['p-val'].values[0])\n",
    "        fig = plt.figure()\n",
    "        plt.hist(ps);"
   ]
  },
  {
   "cell_type": "code",
   "execution_count": 60,
   "id": "8efd56f7",
   "metadata": {
    "scrolled": true
   },
   "outputs": [
    {
     "name": "stdout",
     "output_type": "stream",
     "text": [
      "\n",
      "\n",
      "--------------------------------------------------\n",
      "T-test accuracy in ventricle against chance:decode_effect over_objects pre_videos\n",
      "--------------------------------------------------\n",
      "t=1.959239824435787(p=0.031157554701296553)\n",
      "mean accuracy = 0.3587962962962963\n",
      "\n",
      "\n",
      "--------------------------------------------------\n",
      "T-test accuracy in ventricle against chance:decode_effect over_tricks pre_videos\n",
      "--------------------------------------------------\n",
      "t=-0.25943509165072176(p=0.60119619746551)\n",
      "mean accuracy = 0.3304398148148148\n",
      "\n",
      "\n",
      "--------------------------------------------------\n",
      "T-test accuracy in ventricle against chance:decode_effect over_objects post_videos\n",
      "--------------------------------------------------\n",
      "t=1.1927616745901704(p=0.12256144880663165)\n",
      "mean accuracy = 0.34722222222222227\n",
      "\n",
      "\n",
      "--------------------------------------------------\n",
      "T-test accuracy in ventricle against chance:decode_effect over_tricks post_videos\n",
      "--------------------------------------------------\n",
      "t=1.3571391251074552(p=0.09395346381473724)\n",
      "mean accuracy = 0.3460648148148148\n",
      "\n",
      "\n",
      "--------------------------------------------------\n",
      "T-test accuracy in ventricle against chance:decode_effect over_objects all_videos\n",
      "--------------------------------------------------\n",
      "t=1.9940122945962258(p=0.029069116875784406)\n",
      "mean accuracy = 0.35271990740740744\n",
      "\n",
      "\n",
      "--------------------------------------------------\n",
      "T-test accuracy in ventricle against chance:decode_effect over_tricks all_videos\n",
      "--------------------------------------------------\n",
      "t=-0.47402230677803403(p=0.6800234588779626)\n",
      "mean accuracy = 0.3289930555555556\n",
      "\n",
      "\n",
      "--------------------------------------------------\n",
      "T-test accuracy in ventricle against chance:decode_magic_vs_nomagic over_objects pre_videos\n",
      "--------------------------------------------------\n",
      "t=1.9674443949618685(p=0.030653198018696832)\n",
      "mean accuracy = 0.521701388888889\n",
      "\n",
      "\n",
      "--------------------------------------------------\n",
      "T-test accuracy in ventricle against chance:decode_magic_vs_nomagic over_tricks pre_videos\n",
      "--------------------------------------------------\n",
      "t=1.6935383768278673(p=0.05192761591793898)\n",
      "mean accuracy = 0.5191822066822067\n",
      "\n",
      "\n",
      "--------------------------------------------------\n",
      "T-test accuracy in ventricle against chance:decode_magic_vs_nomagic over_objects post_videos\n",
      "--------------------------------------------------\n",
      "Normality not given\n",
      "t=2.0799761579946647(p=0.024429523767303837)\n",
      "mean accuracy = 0.5199652777777778\n",
      "\n",
      "\n",
      "--------------------------------------------------\n",
      "T-test accuracy in ventricle against chance:decode_magic_vs_nomagic over_tricks post_videos\n",
      "--------------------------------------------------\n",
      "t=1.8979342669281265(p=0.035163038903930376)\n",
      "mean accuracy = 0.5214403651903652\n",
      "\n",
      "\n",
      "--------------------------------------------------\n",
      "T-test accuracy in ventricle against chance:decode_magic_vs_nomagic over_objects all_videos\n",
      "--------------------------------------------------\n",
      "t=3.623967491060907(p=0.0007119457366038514)\n",
      "mean accuracy = 0.5238715277777778\n",
      "\n",
      "\n",
      "--------------------------------------------------\n",
      "T-test accuracy in ventricle against chance:decode_magic_vs_nomagic over_tricks all_videos\n",
      "--------------------------------------------------\n",
      "t=2.950125740797266(p=0.0035910203889922806)\n",
      "mean accuracy = 0.5211004273504273\n"
     ]
    },
    {
     "data": {
      "image/png": "[encoded data removed]",
      "text/plain": [
       "<Figure size 432x288 with 1 Axes>"
      ]
     },
     "metadata": {
      "needs_background": "light"
     },
     "output_type": "display_data"
    },
    {
     "data": {
      "image/png": "[encoded data removed]",
      "text/plain": [
       "<Figure size 432x288 with 1 Axes>"
      ]
     },
     "metadata": {
      "needs_background": "light"
     },
     "output_type": "display_data"
    },
    {
     "data": {
      "image/png": "[encoded data removed]",
      "text/plain": [
       "<Figure size 432x288 with 1 Axes>"
      ]
     },
     "metadata": {
      "needs_background": "light"
     },
     "output_type": "display_data"
    },
    {
     "data": {
      "image/png": "[encoded data removed]",
      "text/plain": [
       "<Figure size 432x288 with 1 Axes>"
      ]
     },
     "metadata": {
      "needs_background": "light"
     },
     "output_type": "display_data"
    },
    {
     "data": {
      "image/png": "[encoded data removed]",
      "text/plain": [
       "<Figure size 432x288 with 1 Axes>"
      ]
     },
     "metadata": {
      "needs_background": "light"
     },
     "output_type": "display_data"
    },
    {
     "data": {
      "image/png": "[encoded data removed]",
      "text/plain": [
       "<Figure size 432x288 with 1 Axes>"
      ]
     },
     "metadata": {
      "needs_background": "light"
     },
     "output_type": "display_data"
    },
    {
     "data": {
      "image/png": "[encoded data removed]",
      "text/plain": [
       "<Figure size 432x288 with 1 Axes>"
      ]
     },
     "metadata": {
      "needs_background": "light"
     },
     "output_type": "display_data"
    },
    {
     "data": {
      "image/png": "[encoded data removed]",
      "text/plain": [
       "<Figure size 432x288 with 1 Axes>"
      ]
     },
     "metadata": {
      "needs_background": "light"
     },
     "output_type": "display_data"
    },
    {
     "data": {
      "image/png": "[encoded data removed]",
      "text/plain": [
       "<Figure size 432x288 with 1 Axes>"
      ]
     },
     "metadata": {
      "needs_background": "light"
     },
     "output_type": "display_data"
    },
    {
     "data": {
      "image/png": "[encoded data removed]",
      "text/plain": [
       "<Figure size 432x288 with 1 Axes>"
      ]
     },
     "metadata": {
      "needs_background": "light"
     },
     "output_type": "display_data"
    },
    {
     "data": {
      "image/png": "[encoded data removed]",
      "text/plain": [
       "<Figure size 432x288 with 1 Axes>"
      ]
     },
     "metadata": {
      "needs_background": "light"
     },
     "output_type": "display_data"
    },
    {
     "data": {
      "image/png": "[encoded data removed]",
      "text/plain": [
       "<Figure size 432x288 with 1 Axes>"
      ]
     },
     "metadata": {
      "needs_background": "light"
     },
     "output_type": "display_data"
    }
   ],
   "source": [
    "ps_dict = {\n",
    "    'what':[],\n",
    "    'over':[],\n",
    "    'data':[],\n",
    "    'p-vals':[]\n",
    "}\n",
    "\n",
    "for base, labels in zip(basenames,num_labels):\n",
    "    for runs in data:\n",
    "        for over in over_what:\n",
    "            \n",
    "            print('\\n')\n",
    "            print('--------------------------------------------------')\n",
    "            print('T-test accuracy in ventricle against chance:' + base +' '+ over + ' ' + runs)\n",
    "            print('--------------------------------------------------')\n",
    "            path = os.path.join(DATA_DIR, base, runs,\n",
    "                               over, 'SpecialMoment',\n",
    "                               'ROI-analysis')\n",
    "            subjects = glob.glob(os.path.join(path,'sub-*'))\n",
    "            subjects.sort()\n",
    "            accuracies = []\n",
    "            for sub in subjects:\n",
    "                ventricle = os.path.join(sub,'3rd-ventricle.hdf5')\n",
    "                res = h5py.File(ventricle,'r')\n",
    "                accuracies.append(res['accuracy'][()])\n",
    "            norm = pg.normality(accuracies)\n",
    "            ttest_res = pg.ttest(x=accuracies,y=1/labels,alternative='greater')\n",
    "            \n",
    "            ps_dict['what'].append(base)\n",
    "            ps_dict['over'].append(over)\n",
    "            ps_dict['data'].append(runs)\n",
    "            ps_dict['p-vals'].append(ttest_res['p-val'].values[0])\n",
    "            \n",
    "            if not norm.normal.values:\n",
    "                print('Normality not given')\n",
    "            print('t={}(p={})'.format(ttest_res['T'].values[0], \n",
    "                                      ttest_res['p-val'].values[0]))\n",
    "            print('mean accuracy = {}'.format(np.mean(accuracies)))\n",
    "            fig = plt.figure()\n",
    "            hist = plt.hist(accuracies)\n",
    "            plt.vlines(x=(1/labels),ymin=0,ymax=max(hist[0]),color='red')"
   ]
  },
  {
   "cell_type": "code",
   "execution_count": 61,
   "id": "8f0c0255",
   "metadata": {},
   "outputs": [
    {
     "data": {
      "text/html": [
       "<div>\n",
       "<style scoped>\n",
       "    .dataframe tbody tr th:only-of-type {\n",
       "        vertical-align: middle;\n",
       "    }\n",
       "\n",
       "    .dataframe tbody tr th {\n",
       "        vertical-align: top;\n",
       "    }\n",
       "\n",
       "    .dataframe thead th {\n",
       "        text-align: right;\n",
       "    }\n",
       "</style>\n",
       "<table border=\"1\" class=\"dataframe\">\n",
       "  <thead>\n",
       "    <tr style=\"text-align: right;\">\n",
       "      <th></th>\n",
       "      <th>what</th>\n",
       "      <th>over</th>\n",
       "      <th>data</th>\n",
       "      <th>p-vals</th>\n",
       "    </tr>\n",
       "  </thead>\n",
       "  <tbody>\n",
       "    <tr>\n",
       "      <th>0</th>\n",
       "      <td>decode_effect</td>\n",
       "      <td>over_objects</td>\n",
       "      <td>pre_videos</td>\n",
       "      <td>0.031158</td>\n",
       "    </tr>\n",
       "    <tr>\n",
       "      <th>1</th>\n",
       "      <td>decode_effect</td>\n",
       "      <td>over_tricks</td>\n",
       "      <td>pre_videos</td>\n",
       "      <td>0.601196</td>\n",
       "    </tr>\n",
       "    <tr>\n",
       "      <th>2</th>\n",
       "      <td>decode_effect</td>\n",
       "      <td>over_objects</td>\n",
       "      <td>post_videos</td>\n",
       "      <td>0.122561</td>\n",
       "    </tr>\n",
       "    <tr>\n",
       "      <th>3</th>\n",
       "      <td>decode_effect</td>\n",
       "      <td>over_tricks</td>\n",
       "      <td>post_videos</td>\n",
       "      <td>0.093953</td>\n",
       "    </tr>\n",
       "    <tr>\n",
       "      <th>4</th>\n",
       "      <td>decode_effect</td>\n",
       "      <td>over_objects</td>\n",
       "      <td>all_videos</td>\n",
       "      <td>0.029069</td>\n",
       "    </tr>\n",
       "    <tr>\n",
       "      <th>5</th>\n",
       "      <td>decode_effect</td>\n",
       "      <td>over_tricks</td>\n",
       "      <td>all_videos</td>\n",
       "      <td>0.680023</td>\n",
       "    </tr>\n",
       "    <tr>\n",
       "      <th>6</th>\n",
       "      <td>decode_magic_vs_nomagic</td>\n",
       "      <td>over_objects</td>\n",
       "      <td>pre_videos</td>\n",
       "      <td>0.030653</td>\n",
       "    </tr>\n",
       "    <tr>\n",
       "      <th>7</th>\n",
       "      <td>decode_magic_vs_nomagic</td>\n",
       "      <td>over_tricks</td>\n",
       "      <td>pre_videos</td>\n",
       "      <td>0.051928</td>\n",
       "    </tr>\n",
       "    <tr>\n",
       "      <th>8</th>\n",
       "      <td>decode_magic_vs_nomagic</td>\n",
       "      <td>over_objects</td>\n",
       "      <td>post_videos</td>\n",
       "      <td>0.024430</td>\n",
       "    </tr>\n",
       "    <tr>\n",
       "      <th>9</th>\n",
       "      <td>decode_magic_vs_nomagic</td>\n",
       "      <td>over_tricks</td>\n",
       "      <td>post_videos</td>\n",
       "      <td>0.035163</td>\n",
       "    </tr>\n",
       "    <tr>\n",
       "      <th>10</th>\n",
       "      <td>decode_magic_vs_nomagic</td>\n",
       "      <td>over_objects</td>\n",
       "      <td>all_videos</td>\n",
       "      <td>0.000712</td>\n",
       "    </tr>\n",
       "    <tr>\n",
       "      <th>11</th>\n",
       "      <td>decode_magic_vs_nomagic</td>\n",
       "      <td>over_tricks</td>\n",
       "      <td>all_videos</td>\n",
       "      <td>0.003591</td>\n",
       "    </tr>\n",
       "  </tbody>\n",
       "</table>\n",
       "</div>"
      ],
      "text/plain": [
       "                       what          over         data    p-vals\n",
       "0             decode_effect  over_objects   pre_videos  0.031158\n",
       "1             decode_effect   over_tricks   pre_videos  0.601196\n",
       "2             decode_effect  over_objects  post_videos  0.122561\n",
       "3             decode_effect   over_tricks  post_videos  0.093953\n",
       "4             decode_effect  over_objects   all_videos  0.029069\n",
       "5             decode_effect   over_tricks   all_videos  0.680023\n",
       "6   decode_magic_vs_nomagic  over_objects   pre_videos  0.030653\n",
       "7   decode_magic_vs_nomagic   over_tricks   pre_videos  0.051928\n",
       "8   decode_magic_vs_nomagic  over_objects  post_videos  0.024430\n",
       "9   decode_magic_vs_nomagic   over_tricks  post_videos  0.035163\n",
       "10  decode_magic_vs_nomagic  over_objects   all_videos  0.000712\n",
       "11  decode_magic_vs_nomagic   over_tricks   all_videos  0.003591"
      ]
     },
     "execution_count": 61,
     "metadata": {},
     "output_type": "execute_result"
    }
   ],
   "source": [
    "ps_df = pd.DataFrame(data=ps_dict,columns=ps_dict.keys())\n",
    "ps_df"
   ]
  },
  {
   "cell_type": "code",
   "execution_count": 75,
   "id": "f22cddb7",
   "metadata": {
    "scrolled": true
   },
   "outputs": [
    {
     "name": "stdout",
     "output_type": "stream",
     "text": [
      "decode_effect pre_videos over_objects\n",
      "0.3587962962962963\n",
      "0.022977022977022976\n",
      "decode_effect pre_videos over_tricks\n",
      "0.3304398148148148\n",
      "0.5844155844155844\n",
      "decode_effect post_videos over_objects\n",
      "0.34722222222222227\n",
      "0.15084915084915085\n",
      "decode_effect post_videos over_tricks\n",
      "0.3460648148148148\n",
      "0.16283716283716285\n",
      "decode_effect all_videos over_objects\n",
      "0.35271990740740744\n",
      "0.015984015984015984\n",
      "decode_effect all_videos over_tricks\n",
      "0.3289930555555556\n",
      "0.6673326673326674\n",
      "decode_magic_vs_nomagic pre_videos over_objects\n",
      "0.521701388888889\n",
      "0.014985014985014986\n",
      "decode_magic_vs_nomagic pre_videos over_tricks\n",
      "0.5191822066822067\n",
      "0.03396603396603397\n",
      "decode_magic_vs_nomagic post_videos over_objects\n",
      "0.5199652777777778\n",
      "0.027972027972027972\n",
      "decode_magic_vs_nomagic post_videos over_tricks\n",
      "0.5214403651903652\n",
      "0.017982017982017984\n",
      "decode_magic_vs_nomagic all_videos over_objects\n",
      "0.5238715277777778\n",
      "0.000999000999000999\n",
      "decode_magic_vs_nomagic all_videos over_tricks\n",
      "0.5211004273504273\n",
      "0.003996003996003996\n"
     ]
    }
   ],
   "source": [
    "for base, labels in zip(basenames,num_labels):\n",
    "    for runs in data:\n",
    "        for over in over_what:\n",
    "            path = os.path.join(DATA_DIR, base, runs,\n",
    "                               over, 'SpecialMoment',\n",
    "                               'ROI-analysis')\n",
    "            subjects = glob.glob(os.path.join(path,'sub-*'))\n",
    "            subjects.sort()\n",
    "            accuracies = []\n",
    "            null_distributions = []\n",
    "            for sub in subjects:\n",
    "                ventricle = os.path.join(sub,'3rd-ventricle.hdf5')\n",
    "                res = h5py.File(ventricle,'r')\n",
    "                accuracies.append(res['accuracy'][()])\n",
    "                null_distributions.append(res['null_distribution'][()])\n",
    "\n",
    "            mean_accuracy = np.mean(accuracies)\n",
    "            mean_null_distribution = np.mean(null_distributions,axis=0)\n",
    "            \n",
    "            p = sum(mean_null_distribution>mean_accuracy)\n",
    "            p = (p+1)/(mean_null_distribution.shape[0]+1)\n",
    "            print(base+' '+runs+' '+over)\n",
    "            print(mean_accuracy)\n",
    "            print(p)\n",
    "            #print(np.argsort(accuracies))"
   ]
  },
  {
   "cell_type": "code",
   "execution_count": 103,
   "id": "f3fb930d",
   "metadata": {
    "scrolled": true
   },
   "outputs": [
    {
     "name": "stdout",
     "output_type": "stream",
     "text": [
      "decode_magic_vs_nomagic pre_videos over_objects\n",
      "0.5159143518518519\n",
      "0.06493506493506493\n"
     ]
    }
   ],
   "source": [
    "base = 'decode_magic_vs_nomagic'\n",
    "runs = 'pre_videos'\n",
    "over = 'over_objects'\n",
    "path = os.path.join(DATA_DIR, base, runs,\n",
    "                   over, 'SpecialMoment',\n",
    "                   'ROI-analysis')\n",
    "subjects = glob.glob(os.path.join(path,'sub-*'))\n",
    "subjects.sort()\n",
    "accuracies = []\n",
    "null_distributions = []\n",
    "for sub in subjects:\n",
    "    ventricle = os.path.join(sub,'L_A1_ROI.hdf5')\n",
    "    res = h5py.File(ventricle,'r')\n",
    "    accuracies.append(res['accuracy'][()])\n",
    "    null_distributions.append(res['null_distribution'][()])\n",
    "\n",
    "mean_accuracy = np.mean(accuracies)\n",
    "mean_null_distribution = np.mean(null_distributions,axis=0)\n",
    "\n",
    "p = sum(mean_null_distribution>mean_accuracy)\n",
    "p = (p+1)/(mean_null_distribution.shape[0]+1)\n",
    "print(base+' '+runs+' '+over)\n",
    "print(mean_accuracy)\n",
    "print(p)\n",
    "#print(np.argsort(accuracies))"
   ]
  },
  {
   "cell_type": "code",
   "execution_count": 100,
   "id": "6517904f",
   "metadata": {},
   "outputs": [
    {
     "data": {
      "text/plain": [
       "0.5555555555555555"
      ]
     },
     "execution_count": 100,
     "metadata": {},
     "output_type": "execute_result"
    }
   ],
   "source": [
    "res['accuracy'][()]"
   ]
  }
 ],
 "metadata": {
  "kernelspec": {
   "display_name": "Python 3 (ipykernel)",
   "language": "python",
   "name": "python3"
  },
  "language_info": {
   "codemirror_mode": {
    "name": "ipython",
    "version": 3
   },
   "file_extension": ".py",
   "mimetype": "text/x-python",
   "name": "python",
   "nbconvert_exporter": "python",
   "pygments_lexer": "ipython3",
   "version": "3.8.11"
  }
 },
 "nbformat": 4,
 "nbformat_minor": 5
}
