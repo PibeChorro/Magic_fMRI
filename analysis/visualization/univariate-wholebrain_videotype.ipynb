{
 "cells": [
  {
   "cell_type": "code",
   "execution_count": 2,
   "id": "7672d070",
   "metadata": {},
   "outputs": [
    {
     "name": "stderr",
     "output_type": "stream",
     "text": [
      "/gpfs01/bartels/user/vplikat/anaconda3/lib/python3.8/site-packages/nilearn/datasets/__init__.py:86: FutureWarning: Fetchers from the nilearn.datasets module will be updated in version 0.9 to return python strings instead of bytes and Pandas dataframes instead of Numpy arrays.\n",
      "  warn(\"Fetchers from the nilearn.datasets module will be \"\n"
     ]
    },
    {
     "name": "stdout",
     "output_type": "stream",
     "text": [
      "220331-16:47:46,932 nipype.utils WARNING:\n",
      "\t A newer version (1.7.0) of nipy/nipype is available. You are using 1.6.1\n"
     ]
    }
   ],
   "source": [
    "# import libraries\n",
    "import os\n",
    "import sys\n",
    "import numpy as np\n",
    "import pandas as pd\n",
    "import matplotlib.pyplot as plt\n",
    "import matplotlib as mpl\n",
    "import nilearn\n",
    "from nilearn.image import load_img, new_img_like\n",
    "from nilearn import plotting\n",
    "from nilearn import surface\n",
    "import nibabel as nib\n",
    "import nipype\n",
    "import glob\n",
    "from pathlib import Path"
   ]
  },
  {
   "cell_type": "code",
   "execution_count": 4,
   "id": "9808fe7f",
   "metadata": {},
   "outputs": [],
   "source": [
    "HOME_DIR = str(Path.home())\n",
    "PROJ_DIR = os.path.join(HOME_DIR,'Documents/Magic_fMRI')\n",
    "RESULTS_DIR = os.path.join(PROJ_DIR,'derivatives/snpm13/snpm13-sla/WholeBrain/VideoTypes/6mm-smoothed-mnispace/SpecialMoment')\n",
    "PLOT_DIR = os.path.join(HOME_DIR,'ownCloud/Magic_scripts_video/Paper_Magic_fMRI/Images/UnivariateResults/nonparametric/')\n",
    "IMG_NAME = 'uncorrKclusterThrIMG.nii'\n",
    "BACKGROUND_IMG = '/opt/MRIcroGL/Resources/standard/mni152.nii.gz'\n",
    "\n",
    "# define ROIs\n",
    "ROIS = [\n",
    "        'V1', 'V2', 'V3', 'hV4',  # Benson\n",
    "        'V3A', 'V3B', 'LO', 'VO', 'IPS',  # Benson\n",
    "        'PH',  # Glasser 12d,13d (inferior temporal gyrus, temporo-occipital division LR)\n",
    "        'IPC',  # Glasser 4d (anterior supramarginal gyrus L)\n",
    "        'IFJ', '44', '6r',  # Glasser d15, d16 (inferior frontal gyrus LR)\n",
    "        'BA6', 'FEF',  # Glasser 9d, 10d, 1p (superior/middle frontal gyrus LR)\n",
    "        'pACC', 'mACC', 'aACC', '8BM',  # Glasser 5d,6d,4p (ACC LR)\n",
    "        'AI', 'AVI',  # Glasser 7d,8d (anterior insula LR)\n",
    "        'IFS', '45', 'BA46',  # Glasser 3d, 3p (inferior frontal gyrus, pars triangularis L)\n",
    "        'BA8', 'BA9'  # Glasser 2p (middle frontal gyrus/DLPFC L)\n",
    "      ]\n",
    "\n",
    "if not os.path.exists(PLOT_DIR):\n",
    "    os.makedirs(PLOT_DIR)"
   ]
  },
  {
   "cell_type": "code",
   "execution_count": 55,
   "id": "00263229",
   "metadata": {},
   "outputs": [],
   "source": [
    "cmap = plt.cm.tab20b  # define the colormap\n",
    "# extract all colors from the .jet map\n",
    "cmaplist = [cmap(i) for i in range(cmap.N)]\n",
    "# force the first color entry to be grey\n",
    "cmaplist[0] = (.5, .5, .5, 1.0)\n",
    "\n",
    "# create the new map\n",
    "cmap = mpl.colors.LinearSegmentedColormap.from_list(\n",
    "    'Custom cmap', cmaplist, cmap.N)\n",
    "\n",
    "# define the bins and normalize\n",
    "bounds = np.linspace(0, len(ROIS)-1, len(ROIS))\n",
    "norm = mpl.colors.BoundaryNorm(bounds, cmap.N)"
   ]
  },
  {
   "cell_type": "code",
   "execution_count": 5,
   "id": "e6a8ba68",
   "metadata": {},
   "outputs": [],
   "source": [
    "# plot Magic pre>post results\n",
    "%matplotlib inline\n",
    "contrast = 'Magic Before > Magic After'\n",
    "res_img = os.path.join(RESULTS_DIR,contrast,IMG_NAME)\n",
    "output_dir = os.path.join(PLOT_DIR,contrast+'.svg')\n",
    "plotting.plot_stat_map(res_img,\n",
    "                       bg_img=BACKGROUND_IMG,\n",
    "                       draw_cross=False,\n",
    "                       display_mode='x',\n",
    "                       cut_coords=[-6,8],\n",
    "                       #output_file=output_dir\n",
    "                      );"
   ]
  },
  {
   "cell_type": "code",
   "execution_count": 15,
   "id": "590676d1",
   "metadata": {},
   "outputs": [
    {
     "name": "stderr",
     "output_type": "stream",
     "text": [
      "/home/vplikat/anaconda3/lib/python3.9/site-packages/nilearn/_utils/niimg.py:61: UserWarning: Non-finite values detected. These values will be replaced with zeros.\n",
      "  warn(\n"
     ]
    }
   ],
   "source": [
    "# plot Magic pre>post results\n",
    "%matplotlib inline\n",
    "contrast = 'Control Before > Control After'\n",
    "res_img = os.path.join(RESULTS_DIR,contrast,IMG_NAME)\n",
    "output_dir = os.path.join(PLOT_DIR,contrast+'.svg')\n",
    "plotting.plot_stat_map(res_img,\n",
    "                       bg_img=BACKGROUND_IMG,\n",
    "                       draw_cross=False,\n",
    "                       display_mode='x',\n",
    "                       cut_coords=[-6],\n",
    "                       output_file=output_dir\n",
    "                      );"
   ]
  },
  {
   "cell_type": "code",
   "execution_count": 17,
   "id": "4bfbc080",
   "metadata": {},
   "outputs": [
    {
     "name": "stderr",
     "output_type": "stream",
     "text": [
      "/home/vplikat/anaconda3/lib/python3.9/site-packages/nilearn/_utils/niimg.py:61: UserWarning: Non-finite values detected. These values will be replaced with zeros.\n",
      "  warn(\n"
     ]
    }
   ],
   "source": [
    "# plot MagPre-ConPre vs MagPost-ConPost results\n",
    "contrast = 'MagPre-ConPre vs MagPost-ConPost'\n",
    "res_img = os.path.join(RESULTS_DIR,contrast,IMG_NAME)\n",
    "output_dir = os.path.join(PLOT_DIR,contrast+'.svg')\n",
    "plotting.plot_stat_map(res_img,\n",
    "                       bg_img=BACKGROUND_IMG,\n",
    "                       draw_cross=False,\n",
    "                       display_mode='xz',\n",
    "                       cut_coords=[8, -8],\n",
    "                       output_file=output_dir\n",
    "                      );"
   ]
  }
 ],
 "metadata": {
  "kernelspec": {
   "display_name": "Python 3 (ipykernel)",
   "language": "python",
   "name": "python3"
  },
  "language_info": {
   "codemirror_mode": {
    "name": "ipython",
    "version": 3
   },
   "file_extension": ".py",
   "mimetype": "text/x-python",
   "name": "python",
   "nbconvert_exporter": "python",
   "pygments_lexer": "ipython3",
   "version": "3.8.11"
  }
 },
 "nbformat": 4,
 "nbformat_minor": 5
}
