{
 "cells": [
  {
   "cell_type": "markdown",
   "id": "a0aeaf72",
   "metadata": {
    "pycharm": {
     "name": "#%% md\n"
    }
   },
   "source": [
    "# General\n",
    "In contrasts involving the surprise condition (Surprise>Magic and Surprise>Control) we found significant voxels in white matter and CSF\n",
    "\n",
    "# Potential Solutions\n",
    "Significant results in WM/CSF can be a sign of motion\n",
    "\n",
    "## Increase in Motion parameters\n",
    "The first attempt was to add the derivative, square and square of derivative of the six movement parameters as regressors \n",
    "This resulted in a decrease of significant voxels in CSF and WM, however did not solve the problem\n",
    "\n",
    "## CSF, WM and GS as regressors\n",
    "The next step was to add the mean WM and CSF signal as well as global signal and even the derivative, squares and derivatives of squares of CSF and WM to the GLM\n",
    "All attempts only decreased the number of significant voxels, but did not resolve the whole problem\n",
    "\n",
    "# Steps in this notebook\n",
    "One step back from adding more regressors is to see if motion can really account for the artifact we found. We therefore\n",
    "- correlate the SPM design matrix with framewise displacement (Power et al 2012)<br>\n",
    "    did not reveal a systematically higher correlation between surprise and FD\n",
    "- inspect variance in brain signal for the time of conditions"
   ]
  },
  {
   "cell_type": "code",
   "execution_count": 1,
   "id": "076aa445",
   "metadata": {
    "pycharm": {
     "name": "#%%\n"
    }
   },
   "outputs": [
    {
     "name": "stderr",
     "output_type": "stream",
     "text": [
      "/gpfs01/bartels/user/vplikat/anaconda3/lib/python3.8/site-packages/outdated/utils.py:14: OutdatedPackageWarning: The package pingouin is out of date. Your version is 0.5.0, the latest is 0.5.1.\n",
      "Set the environment variable OUTDATED_IGNORE=1 to disable these warnings.\n",
      "  return warn(\n",
      "/gpfs01/bartels/user/vplikat/anaconda3/lib/python3.8/site-packages/nilearn/datasets/__init__.py:86: FutureWarning: Fetchers from the nilearn.datasets module will be updated in version 0.9 to return python strings instead of bytes and Pandas dataframes instead of Numpy arrays.\n",
      "  warn(\"Fetchers from the nilearn.datasets module will be \"\n"
     ]
    }
   ],
   "source": [
    "# import libraries\n",
    "import os\n",
    "import sys\n",
    "import numpy as np\n",
    "from scipy import stats\n",
    "import pingouin as pg\n",
    "import pandas as pd\n",
    "import matplotlib.pyplot as plt\n",
    "import matplotlib as mpl\n",
    "import nilearn\n",
    "from nilearn.image import load_img, new_img_like\n",
    "from nilearn import plotting\n",
    "from nilearn import surface\n",
    "import nibabel as nib\n",
    "import glob\n",
    "from pathlib import Path\n",
    "import re\n",
    "import readmat"
   ]
  },
  {
   "cell_type": "code",
   "execution_count": 107,
   "id": "1807e9fe",
   "metadata": {
    "pycharm": {
     "name": "#%%\n"
    }
   },
   "outputs": [],
   "source": [
    "HOME_DIR = str(Path.home())\n",
    "PROJ_DIR = os.path.join(HOME_DIR,'Documents','Magic_fMRI','DATA','MRI')\n",
    "RAWDATA_DIR = os.path.join(PROJ_DIR, 'rawdata')\n",
    "FMRIPREP_DIR = os.path.join(PROJ_DIR, 'derivatives', 'fmriprep-21.0.1')\n",
    "REALIGNED_DATA = os.path.join(PROJ_DIR,'derivatives','spm12','spm12-preproc','realigned')\n",
    "RESULTS_DIR_6MP = os.path.join(PROJ_DIR,'derivatives','spm12','spm12-fla','WholeBrain',\n",
    "                               'VideoTypes','6mm-smoothed-mnispace','SpecialMoment')\n",
    "# get all subjects \n",
    "all_subjects = glob.glob(os.path.join(RAWDATA_DIR,'sub-*'))\n",
    "all_subjects.sort()\n",
    "subjects = [os.path.basename(sub) for sub in all_subjects]"
   ]
  },
  {
   "cell_type": "markdown",
   "id": "1b3ecdb5",
   "metadata": {
    "pycharm": {
     "name": "#%% md\n"
    }
   },
   "source": [
    "### Calculate correlations between framewise displacement and condition"
   ]
  },
  {
   "cell_type": "code",
   "execution_count": 102,
   "id": "684bcad0",
   "metadata": {
    "pycharm": {
     "name": "#%%\n"
    },
    "scrolled": true
   },
   "outputs": [
    {
     "name": "stdout",
     "output_type": "stream",
     "text": [
      "Tada\n",
      "Tada\n",
      "Tada\n"
     ]
    }
   ],
   "source": [
    "all_sub_dicts = []\n",
    "\n",
    "for sub in subjects:\n",
    "    # create empty dictionary for the correlations\n",
    "    sub_dict = {'Magic': [], 'Surprise':[], 'Control':[]}\n",
    "    \n",
    "    # create empty list to store all the frame displacements in\n",
    "    total_frame_displacement = []\n",
    "    \n",
    "    # read in the subject's SPM.mat file \n",
    "    current_SPM = readmat.load(os.path.join(RESULTS_DIR_6MP,sub,'SPM.mat'),isStruct=True)['SPM']['xX']\n",
    "    # create a large dataframe for the design matrix\n",
    "    spm_df = pd.DataFrame(data=np.array(current_SPM['X']),columns=current_SPM['name'])\n",
    "    \n",
    "    # get all realignment files\n",
    "    realignmentfiles = glob.glob(os.path.join(REALIGNED_DATA, sub, 'func', 'rp_'+sub+'*.txt'))\n",
    "    realignmentfiles.sort()\n",
    "    \n",
    "    # read in the realignment files \n",
    "    for realignf in realignmentfiles:\n",
    "        # since MATLAB writes the realignment files in a strange way, we need to read them line by line\n",
    "        with open(realignf,'r') as rf:\n",
    "            realign_params = []\n",
    "            for line in rf: # read lines\n",
    "                realign_params.append([float(x) for x in line.split()])\n",
    "        # initiate the framwise displacement for current run with 0 for the first entry\n",
    "        run_fwd = [0] \n",
    "        # iterate over parameters and subtract parameter i-(i-1)\n",
    "        for params, params_plus1 in zip(realign_params[:-1],realign_params[1:]):\n",
    "            # spm returns the rotation parameters in rad\n",
    "            # rad to transformation = rad * r (r = 50mm - Power et al 2012)\n",
    "            delta = abs(np.array(params_plus1)-np.array(params))\n",
    "            delta[3:]*=50\n",
    "            run_fwd.append(sum(delta))\n",
    "    \n",
    "        total_frame_displacement.append(run_fwd)\n",
    "        \n",
    "    for condition in sub_dict.keys():\n",
    "        run_correlations = []\n",
    "        for i, (idx, cond_in_run) in enumerate(spm_df.filter(regex=condition).iteritems()):\n",
    "            try:\n",
    "                run_displacement = np.array(total_frame_displacement[i])\n",
    "                run_design = cond_in_run.values[i*193:(i+1)*193]\n",
    "                #[corr, p] = stats.spearmanr(run_displacement,run_design, nan_policy='omit')\n",
    "                [corr, p] = stats.pearsonr(run_displacement,run_design)\n",
    "                run_correlations.append(corr)\n",
    "            except:\n",
    "                print('Tada')\n",
    "        sub_dict[condition].append(np.abs(np.arctanh(run_correlations)).mean())\n",
    "    all_sub_dicts.append(sub_dict)"
   ]
  },
  {
   "cell_type": "markdown",
   "id": "9332252d",
   "metadata": {
    "pycharm": {
     "name": "#%% md\n"
    }
   },
   "source": [
    "#### Test and plot differences in correlation"
   ]
  },
  {
   "cell_type": "code",
   "execution_count": 103,
   "id": "cc89a24d",
   "metadata": {
    "pycharm": {
     "name": "#%%\n"
    }
   },
   "outputs": [],
   "source": [
    "mag_corr = [abs(all_sub_dicts[s]['Magic'][0]) for s in range(len(all_sub_dicts))]\n",
    "sur_corr = [abs(all_sub_dicts[s]['Surprise'][0]) for s in range(len(all_sub_dicts))]\n",
    "con_corr = [abs(all_sub_dicts[s]['Control'][0]) for s in range(len(all_sub_dicts))]\n",
    "t1 = pg.ttest(mag_corr, sur_corr,paired=True)\n",
    "t2 = pg.ttest(mag_corr, con_corr,paired=True)\n",
    "t3 = pg.ttest(con_corr, sur_corr,paired=True)"
   ]
  },
  {
   "cell_type": "code",
   "execution_count": 96,
   "id": "563c8e10",
   "metadata": {
    "pycharm": {
     "name": "#%%\n"
    },
    "scrolled": true
   },
   "outputs": [
    {
     "data": {
      "image/png": "[encoded data removed]",
      "text/plain": [
       "<Figure size 432x288 with 1 Axes>"
      ]
     },
     "metadata": {
      "needs_background": "light"
     },
     "output_type": "display_data"
    }
   ],
   "source": [
    "fig = plt.figure()\n",
    "plt.plot(mag_corr,'b',label='Magic')\n",
    "plt.plot(sur_corr,'r',label='Surprise')\n",
    "plt.plot(con_corr,'g',label='Control')\n",
    "plt.legend();"
   ]
  },
  {
   "cell_type": "code",
   "execution_count": 97,
   "id": "3c98abda",
   "metadata": {
    "pycharm": {
     "name": "#%%\n"
    },
    "scrolled": false
   },
   "outputs": [
    {
     "data": {
      "image/png": "[encoded data removed]",
      "text/plain": [
       "<Figure size 432x288 with 1 Axes>"
      ]
     },
     "metadata": {
      "needs_background": "light"
     },
     "output_type": "display_data"
    }
   ],
   "source": [
    "fig = plt.figure()\n",
    "#plt.plot(,'b',label='Magic')\n",
    "plt.plot(np.array(sur_corr)-np.array(mag_corr),'ro',label='Surprise-Magic')\n",
    "plt.plot(np.array(sur_corr)-np.array(con_corr),'go',label='Surprise-Control')\n",
    "plt.hlines(y=0,xmin=0,xmax=23)\n",
    "plt.legend();"
   ]
  },
  {
   "cell_type": "markdown",
   "id": "bc0f9d12",
   "metadata": {
    "pycharm": {
     "name": "#%% md\n"
    }
   },
   "source": [
    "### Variance of signal in condition trials"
   ]
  },
  {
   "cell_type": "code",
   "execution_count": null,
   "id": "b50637dc",
   "metadata": {
    "pycharm": {
     "name": "#%%\n"
    }
   },
   "outputs": [],
   "source": []
  },
  {
   "cell_type": "code",
   "execution_count": 122,
   "id": "b2b3bec1",
   "metadata": {
    "pycharm": {
     "name": "#%%\n"
    },
    "scrolled": true
   },
   "outputs": [],
   "source": [
    "sub = 'sub-02'\n",
    "run = 3\n",
    "\n",
    "eventfile = os.path.join(RAWDATA_DIR, sub, 'func', sub+'_task-magic_run-{:02}_events.tsv'.format(run))\n",
    "confoundfile = os.path.join(FMRIPREP_DIR, sub, 'func',\n",
    "                            sub+'_task-magic_run-{}_desc-confounds_timeseries.tsv'.format(run))\n",
    "\n",
    "event_df = pd.read_csv(eventfile,sep='\\t')\n",
    "surprise_events = event_df[event_df.trial_type.str.contains('Surprise')]\n",
    "magic_events = event_df[event_df.trial_type.str.contains('Magic')]\n",
    "control_events = event_df[event_df.trial_type.str.contains('Control')]\n",
    "confound_df = pd.read_csv(confoundfile,sep='\\t')\n",
    "confound_df['timestamps']=confound_df.index*TR\n",
    "\n",
    "# extend confound_df with a column containing [0,1] for either it had surprise condition or not\n",
    "# use new column to convolve with HDRF\n",
    "confound_df['is_surprise'] = np.zeros((len(confound_df),1))\n",
    "confound_df['is_magic'] = np.zeros((len(confound_df),1))\n",
    "confound_df['is_control'] = np.zeros((len(confound_df),1))\n",
    "\n",
    "for idx,surp in surprise_events.iterrows():\n",
    "    confound_df.is_surprise = np.where((confound_df.timestamps>surp.onset) & (confound_df.timestamps<surp.onset+surp.duration),1,confound_df.is_surprise)\n",
    "    \n",
    "for idx, con in control_events.iterrows():\n",
    "    confound_df.is_control = np.where((confound_df.timestamps>con.onset) & (confound_df.timestamps<con.onset+con.duration),1,confound_df.is_control)\n",
    "    \n",
    "for idx, mag in magic_events.iterrows():\n",
    "    confound_df.is_magic = np.where((confound_df.timestamps>mag.onset) & (confound_df.timestamps<mag.onset+mag.duration),1,confound_df.is_control)\n"
   ]
  },
  {
   "cell_type": "code",
   "execution_count": 54,
   "id": "6268d6da",
   "metadata": {
    "pycharm": {
     "name": "#%%\n"
    }
   },
   "outputs": [],
   "source": [
    "datapoints = np.linspace(0,len(confound_df), len(confound_df))\n",
    "colors = np.array([['r']*8 if 'Surprise' in trial else ['b']*8 for trial in event_df.trial_type])\n",
    "colors = colors.flatten()"
   ]
  },
  {
   "cell_type": "code",
   "execution_count": 62,
   "id": "07f80520",
   "metadata": {
    "pycharm": {
     "name": "#%%\n"
    }
   },
   "outputs": [
    {
     "data": {
      "image/png": "[encoded data removed]",
      "text/plain": [
       "<Figure size 1080x144 with 1 Axes>"
      ]
     },
     "metadata": {
      "needs_background": "light"
     },
     "output_type": "display_data"
    }
   ],
   "source": [
    "# plot the conditions together with confounding parameters\n",
    "fig = plt.figure(figsize=(15,2))\n",
    "for t, f, c in zip(confound_df.timestamps, confound_df.framewise_displacement,colors):\n",
    "    plt.plot(t, f,'.',c=c)\n",
    "#plt.xticks(ticks=event_df.onset, labels=event_df.trial_type, rotation=45, ha='right');"
   ]
  },
  {
   "cell_type": "code",
   "execution_count": 3,
   "id": "8041efac",
   "metadata": {
    "pycharm": {
     "name": "#%%\n"
    },
    "scrolled": true
   },
   "outputs": [],
   "source": [
    "all_sub_dicts = []\n",
    "\n",
    "for sub in subjects:\n",
    "    # read in the subject's SPM.mat file \n",
    "    readmat.load(os.path.join(RESULTS_DIR_6MP,sub,'SPM.mat'),isStruct=True)['SPM']['xX']\n",
    "    # create a large dataframe for the design matrix and cut out the three conditions of interest\n",
    "    spm_df = pd.DataFrame(data=np.array(exampl_SPM['X']),columns=exampl_SPM['name'])\n",
    "    magic_hdr_convolve = spm_df.filter(regex='Magic').sum(axis=1)\n",
    "    surprise_hdr_convolve = spm_df.filter(regex='Surprise').sum(axis=1)\n",
    "    control_hdr_convolve = spm_df.filter(regex='Control').sum(axis=1)\n",
    "    \n",
    "    # create empty list to store all the frame displacements in\n",
    "    total_frame_displacement = []\n",
    "    # get all event files and confound files from the current subject\n",
    "    eventfiles = glob.glob(os.path.join(RAWDATA_DIR, sub, 'func', '*_events.tsv'))\n",
    "    realignmentfiles = glob.glob(os.path.join(REALIGNED_DATA, sub, 'func', 'rp_'+sub+'*.txt'))\n",
    "    \n",
    "    # sanity check: if number of eventfiles and confoundfiles is not equal -> throw an error\n",
    "    if len(eventfiles) != len(confoundfiles):\n",
    "        print('Error: Not the same number of files in {}'.format(sub))\n",
    "        continue\n",
    "    # create empty dictionary for the correlations\n",
    "    sub_dict = {'Magic': [], 'Surprise':[], 'Control':[]}\n",
    "    \n",
    "    # cannot iterate over eventfiles and confoundfiles, because fmriprep does no zero leading \n",
    "    # events:run-01 confounds:run-1 => sorting results in different order\n",
    "    for run in range(len(eventfiles)):\n",
    "        curr_events = os.path.join(RAWDATA_DIR, sub, 'func', sub+'_task-magic_run-{:02}_events.tsv'.format(run+1))\n",
    "        curr_confounds = os.path.join(FMRIPREP_DIR, sub, 'func', \n",
    "        #                              sub+'_task-magic_run-{}_desc-confounds_timeseries.tsv'.format(run+1))\n",
    "        \n",
    "        event_df = pd.read_csv(curr_events,sep='\\t')\n",
    "        confound_df = pd.read_csv(curr_confounds,sep='\\t')\n",
    "        # add time to the dataframe by multiplying the index with the TR\n",
    "        confound_df['timestamps']=confound_df.index*TR\n",
    "        \n",
    "        # go through the keys of our sub_dict and add a column for each condition to the confound_df\n",
    "        for condition in sub_dict.keys():\n",
    "            condition_events = event_df[event_df.trial_type.str.contains(condition)]\n",
    "            # create a vector of zeros and change their values to 1 if our condition was present\n",
    "            confound_df['is_'+condition] = np.zeros((len(confound_df),1))\n",
    "            for idx,trial in condition_events.iterrows():\n",
    "                confound_df['is_'+condition] = np.where((confound_df.timestamps>trial.onset) & (confound_df.timestamps<trial.onset+trial.duration),1,confound_df['is_'+condition])\n",
    "            [corr, p] = stats.spearmanr(confound_df.framewise_displacement,confound_df['is_'+condition], nan_policy='omit')\n",
    "            sub_dict[condition].append(corr)\n",
    "    \n",
    "    all_sub_dicts.append(sub_dict)"
   ]
  }
 ],
 "metadata": {
  "kernelspec": {
   "display_name": "Python 3 (ipykernel)",
   "language": "python",
   "name": "python3"
  },
  "language_info": {
   "codemirror_mode": {
    "name": "ipython",
    "version": 3
   },
   "file_extension": ".py",
   "mimetype": "text/x-python",
   "name": "python",
   "nbconvert_exporter": "python",
   "pygments_lexer": "ipython3",
   "version": "3.8.11"
  }
 },
 "nbformat": 4,
 "nbformat_minor": 5
}
