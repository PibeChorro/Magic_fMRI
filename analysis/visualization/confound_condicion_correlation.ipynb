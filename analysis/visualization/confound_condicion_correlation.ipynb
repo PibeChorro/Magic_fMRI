{
 "cells": [
  {
   "cell_type": "code",
   "execution_count": 83,
   "id": "076aa445",
   "metadata": {},
   "outputs": [],
   "source": [
    "# import libraries\n",
    "import os\n",
    "import sys\n",
    "import numpy as np\n",
    "from scipy import stats\n",
    "import pandas as pd\n",
    "import matplotlib.pyplot as plt\n",
    "import matplotlib as mpl\n",
    "import nilearn\n",
    "from nilearn.image import load_img, new_img_like\n",
    "from nilearn import plotting\n",
    "from nilearn import surface\n",
    "import nibabel as nib\n",
    "import glob\n",
    "from pathlib import Path"
   ]
  },
  {
   "cell_type": "code",
   "execution_count": 17,
   "id": "1807e9fe",
   "metadata": {},
   "outputs": [],
   "source": [
    "HOME_DIR = str(Path.home())\n",
    "PROJ_DIR = os.path.join(HOME_DIR,'Documents','Magic_fMRI','DATA','MRI')\n",
    "RAWDATA_DIR = os.path.join(PROJ_DIR, 'rawdata')\n",
    "FMRIPREP_DIR = os.path.join(PROJ_DIR, 'derivatives', 'fmriprep-21.0.1')\n",
    "TR = 2"
   ]
  },
  {
   "cell_type": "code",
   "execution_count": 145,
   "id": "684bcad0",
   "metadata": {
    "scrolled": true
   },
   "outputs": [
    {
     "name": "stdout",
     "output_type": "stream",
     "text": [
      "Error: Not the same number of files in sub-07\n"
     ]
    }
   ],
   "source": [
    "# get all subjects \n",
    "all_subjects = glob.glob(os.path.join(RAWDATA_DIR,'sub-*'))\n",
    "all_subjects.sort()\n",
    "subjects = [os.path.basename(sub) for sub in all_subjects]\n",
    "\n",
    "all_sub_dicts = []\n",
    "\n",
    "for sub in subjects:\n",
    "    # get all event files and confound files from the current subject\n",
    "    eventfiles = glob.glob(os.path.join(RAWDATA_DIR, sub, 'func', '*_events.tsv'))\n",
    "    confoundfiles = glob.glob(os.path.join(FMRIPREP_DIR, sub, 'func', '*desc-confounds_timeseries.tsv'))\n",
    "    \n",
    "    # sanity check: if number of eventfiles and confoundfiles is not equal -> throw an error\n",
    "    if len(eventfiles) != len(confoundfiles):\n",
    "        print('Error: Not the same number of files in {}'.format(sub))\n",
    "        continue\n",
    "    # create empty dictionary for the correlations\n",
    "    sub_dict = {'Magic': [], 'Surprise':[], 'Control':[]}\n",
    "    \n",
    "    # cannot iterate over eventfiles and confoundfiles, because fmriprep does no zero leading \n",
    "    # events:run-01 confounds:run-1 => sorting results in different order\n",
    "    for run in range(len(eventfiles)):\n",
    "        curr_events = os.path.join(RAWDATA_DIR, sub, 'func', sub+'_task-magic_run-{:02}_events.tsv'.format(run+1))\n",
    "        curr_confounds = os.path.join(FMRIPREP_DIR, sub, 'func', sub+'_task-magic_run-{}_desc-confounds_timeseries.tsv'.format(run+1))\n",
    "        \n",
    "        event_df = pd.read_csv(curr_events,sep='\\t')\n",
    "        confound_df = pd.read_csv(curr_confounds,sep='\\t')\n",
    "        # add time to the dataframe by multiplying the index with the TR\n",
    "        confound_df['timestamps']=confound_df.index*TR\n",
    "        \n",
    "        # go through the keys of our sub_dict and add a column for each condition to the confound_df\n",
    "        for condition in sub_dict.keys():\n",
    "            condition_events = event_df[event_df.trial_type.str.contains(condition)]\n",
    "            # create a vector of zeros and change their values to 1 if our condition was present\n",
    "            confound_df['is_'+condition] = np.zeros((len(confound_df),1))\n",
    "            for idx,trial in condition_events.iterrows():\n",
    "                confound_df['is_'+condition] = np.where((confound_df.timestamps>trial.onset) & (confound_df.timestamps<trial.onset+trial.duration),1,confound_df['is_'+condition])\n",
    "            [corr, p] = stats.spearmanr(confound_df.framewise_displacement,confound_df['is_'+condition], nan_policy='omit')\n",
    "            sub_dict[condition].append(corr)\n",
    "    \n",
    "    all_sub_dicts.append(sub_dict)"
   ]
  },
  {
   "cell_type": "code",
   "execution_count": 155,
   "id": "8d950382",
   "metadata": {
    "scrolled": true
   },
   "outputs": [
    {
     "name": "stdout",
     "output_type": "stream",
     "text": [
      "Error: Not the same number of files in sub-07\n"
     ]
    }
   ],
   "source": [
    "# get all subjects \n",
    "all_subjects = glob.glob(os.path.join(RAWDATA_DIR,'sub-*'))\n",
    "all_subjects.sort()\n",
    "subjects = [os.path.basename(sub) for sub in all_subjects]\n",
    "\n",
    "all_sub_dicts = []\n",
    "\n",
    "for sub in subjects:\n",
    "    # get all event files and confound files from the current subject\n",
    "    eventfiles = glob.glob(os.path.join(RAWDATA_DIR, sub, 'func', '*_events.tsv'))\n",
    "    confoundfiles = glob.glob(os.path.join(FMRIPREP_DIR, sub, 'func', '*desc-confounds_timeseries.tsv'))\n",
    "    \n",
    "    # sanity check: if number of eventfiles and confoundfiles is not equal -> throw an error\n",
    "    if len(eventfiles) != len(confoundfiles):\n",
    "        print('Error: Not the same number of files in {}'.format(sub))\n",
    "        continue\n",
    "    # create empty dictionary for the correlations\n",
    "    sub_dict = {'Magic': [], 'Surprise':[], 'Control':[]}\n",
    "    \n",
    "    # cannot iterate over eventfiles and confoundfiles, because fmriprep does no zero leading \n",
    "    # events:run-01 confounds:run-1 => sorting results in different order\n",
    "    for run in range(len(eventfiles)):\n",
    "        curr_events = os.path.join(RAWDATA_DIR, sub, 'func', sub+'_task-magic_run-{:02}_events.tsv'.format(run+1))\n",
    "        curr_confounds = os.path.join(FMRIPREP_DIR, sub, 'func', sub+'_task-magic_run-{}_desc-confounds_timeseries.tsv'.format(run+1))\n",
    "        \n",
    "        event_df = pd.read_csv(curr_events,sep='\\t')\n",
    "        confound_df = pd.read_csv(curr_confounds,sep='\\t')\n",
    "        # add time to the dataframe by multiplying the index with the TR\n",
    "        confound_df['timestamps']=confound_df.index*TR\n",
    "        \n",
    "        # go through the keys of our sub_dict and add a column for each condition to the confound_df\n",
    "        for condition in sub_dict.keys():\n",
    "            condition_events = event_df[event_df.trial_type.str.contains(condition)]\n",
    "            # create a vector of zeros and change their values to 1 if our condition was present\n",
    "            confound_df['is_'+condition] = np.zeros((len(confound_df),1))\n",
    "            for idx,trial in condition_events.iterrows():\n",
    "                confound_df['is_'+condition] = np.where((confound_df.timestamps>trial.onset) & (confound_df.timestamps<trial.onset+trial.duration),1,confound_df['is_'+condition])\n",
    "            [corr, p] = stats.spearmanr(confound_df.global_signal,confound_df['is_'+condition], nan_policy='omit')\n",
    "            sub_dict[condition].append(corr)\n",
    "    \n",
    "    all_sub_dicts.append(sub_dict)"
   ]
  },
  {
   "cell_type": "code",
   "execution_count": 156,
   "id": "d67993f8",
   "metadata": {},
   "outputs": [
    {
     "data": {
      "image/png": "[encoded data removed]",
      "text/plain": [
       "<Figure size 504x504 with 3 Axes>"
      ]
     },
     "metadata": {
      "needs_background": "light"
     },
     "output_type": "display_data"
    }
   ],
   "source": [
    "# plot histogram of correlations for all subjects\n",
    "fig = plt.figure(figsize=(7,7))\n",
    "# a plot for each condition\n",
    "for c,condition in enumerate(sub_dict.keys()):\n",
    "    # add new subplot\n",
    "    ax = plt.subplot(3,1,c+1)\n",
    "    ax.title.set_text(condition)\n",
    "    for s, sub in enumerate(all_sub_dicts):\n",
    "        ax.hist(sub[condition],color='b',alpha=1/len(all_sub_dicts))"
   ]
  },
  {
   "cell_type": "code",
   "execution_count": 122,
   "id": "b2b3bec1",
   "metadata": {
    "scrolled": true
   },
   "outputs": [],
   "source": [
    "sub = 'sub-02'\n",
    "run = 3\n",
    "\n",
    "eventfile = os.path.join(RAWDATA_DIR, sub, 'func', sub+'_task-magic_run-{:02}_events.tsv'.format(run))\n",
    "confoundfile = os.path.join(FMRIPREP_DIR, sub, 'func', sub+'_task-magic_run-{}_desc-confounds_timeseries.tsv'.format(run))\n",
    "\n",
    "event_df = pd.read_csv(eventfile,sep='\\t')\n",
    "surprise_events = event_df[event_df.trial_type.str.contains('Surprise')]\n",
    "magic_events = event_df[event_df.trial_type.str.contains('Magic')]\n",
    "control_events = event_df[event_df.trial_type.str.contains('Control')]\n",
    "confound_df = pd.read_csv(confoundfile,sep='\\t')\n",
    "confound_df['timestamps']=confound_df.index*TR\n",
    "\n",
    "# extend confound_df with a column containing [0,1] for either it had surprise condition or not\n",
    "# use new column to convolve with HDRF\n",
    "confound_df['is_surprise'] = np.zeros((len(confound_df),1))\n",
    "confound_df['is_magic'] = np.zeros((len(confound_df),1))\n",
    "confound_df['is_control'] = np.zeros((len(confound_df),1))\n",
    "\n",
    "for idx,surp in surprise_events.iterrows():\n",
    "    confound_df.is_surprise = np.where((confound_df.timestamps>surp.onset) & (confound_df.timestamps<surp.onset+surp.duration),1,confound_df.is_surprise)\n",
    "    \n",
    "for idx, con in control_events.iterrows():\n",
    "    confound_df.is_control = np.where((confound_df.timestamps>con.onset) & (confound_df.timestamps<con.onset+con.duration),1,confound_df.is_control)\n",
    "    \n",
    "for idx, mag in magic_events.iterrows():\n",
    "    confound_df.is_magic = np.where((confound_df.timestamps>mag.onset) & (confound_df.timestamps<mag.onset+mag.duration),1,confound_df.is_control)\n"
   ]
  },
  {
   "cell_type": "code",
   "execution_count": 125,
   "id": "cdccbe9e",
   "metadata": {},
   "outputs": [
    {
     "data": {
      "text/plain": [
       "SpearmanrResult(correlation=-0.024739918892234602, pvalue=0.733389676967148)"
      ]
     },
     "execution_count": 125,
     "metadata": {},
     "output_type": "execute_result"
    }
   ],
   "source": [
    "stats.spearmanr(confound_df.framewise_displacement,confound_df.is_surprise, nan_policy='omit')"
   ]
  },
  {
   "cell_type": "code",
   "execution_count": 54,
   "id": "6268d6da",
   "metadata": {},
   "outputs": [],
   "source": [
    "datapoints = np.linspace(0,len(confound_df), len(confound_df))\n",
    "colors = np.array([['r']*8 if 'Surprise' in trial else ['b']*8 for trial in event_df.trial_type])\n",
    "colors = colors.flatten()"
   ]
  },
  {
   "cell_type": "code",
   "execution_count": 62,
   "id": "07f80520",
   "metadata": {},
   "outputs": [
    {
     "data": {
      "image/png": "[encoded data removed]",
      "text/plain": [
       "<Figure size 1080x144 with 1 Axes>"
      ]
     },
     "metadata": {
      "needs_background": "light"
     },
     "output_type": "display_data"
    }
   ],
   "source": [
    "# plot the conditions together with confounding parameters\n",
    "fig = plt.figure(figsize=(15,2))\n",
    "for t, f, c in zip(confound_df.timestamps, confound_df.framewise_displacement,colors):\n",
    "    plt.plot(t, f,'.',c=c)\n",
    "#plt.xticks(ticks=event_df.onset, labels=event_df.trial_type, rotation=45, ha='right');"
   ]
  }
 ],
 "metadata": {
  "kernelspec": {
   "display_name": "Python 3 (ipykernel)",
   "language": "python",
   "name": "python3"
  },
  "language_info": {
   "codemirror_mode": {
    "name": "ipython",
    "version": 3
   },
   "file_extension": ".py",
   "mimetype": "text/x-python",
   "name": "python",
   "nbconvert_exporter": "python",
   "pygments_lexer": "ipython3",
   "version": "3.8.11"
  }
 },
 "nbformat": 4,
 "nbformat_minor": 5
}
