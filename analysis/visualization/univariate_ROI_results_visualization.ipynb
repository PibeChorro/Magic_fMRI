{
 "cells": [
  {
   "cell_type": "code",
   "execution_count": 42,
   "id": "0ee901a0",
   "metadata": {},
   "outputs": [],
   "source": [
    "# FIRST STEP\n",
    "# interact with the operating system \n",
    "import os\n",
    "from pathlib import Path\n",
    "import git\n",
    "import glob\n",
    "import csv\n",
    "# data structuration and calculations\n",
    "import pandas as pd  # to create data frames\n",
    "import numpy as np   # most important numerical calculations\n",
    "from scipy.stats import pearsonr\n",
    "import pingouin as pg\n",
    "from scipy.cluster.hierarchy import dendrogram, linkage\n",
    "from sklearn.cluster import AgglomerativeClustering\n",
    "# needed to extract the run number out of the parentesis of the string in the SPM.mat file\n",
    "import re\n",
    "# plotting\n",
    "import matplotlib as mpl\n",
    "import matplotlib.pyplot as plt"
   ]
  },
  {
   "cell_type": "code",
   "execution_count": 9,
   "id": "d5a793dd",
   "metadata": {},
   "outputs": [],
   "source": [
    "################################################\n",
    "# VARIABLES FOR PATH SELECTION AND DATA ACCESS #\n",
    "################################################\n",
    "HOME            = str(Path.home())\n",
    "# DATA\n",
    "STIM_DIR = os.path.join(HOME,'Documents/Magic_fMRI/Stimuli')\n",
    "PROJ_DIR        = os.path.join(HOME, 'Documents/Magic_fMRI/DATA/MRI')\n",
    "RAW_DIR         = os.path.join(PROJ_DIR, 'rawdata')\n",
    "DERIVATIVES_DIR = os.path.join(PROJ_DIR, 'derivatives')\n",
    "DATA_DIR = os.path.join(DERIVATIVES_DIR, 'univariate-ROI', 'SpecialMoment', 'MagicEffects')"
   ]
  },
  {
   "cell_type": "code",
   "execution_count": 10,
   "id": "385246e0",
   "metadata": {},
   "outputs": [],
   "source": [
    "ROIS = [\n",
    "        'V1', 'V2', 'V3', 'hV4', \n",
    "        'V3A', 'V3B', \n",
    "        'LO', 'VO', \n",
    "        'FEF', 'IPS',\n",
    "        'ACC', 'PCC', \n",
    "        'IFG', 'aINSULA', \n",
    "        'IFJ', 'PHT', 'PF'\n",
    "      ]\n",
    "NETWORKS = ['DMN', 'DAN', 'VAN', 'visual']\n",
    "EFFECTS = ['Appear', 'Change', 'Vanish']\n",
    "PRE_POST = ['pre', 'post']"
   ]
  },
  {
   "cell_type": "code",
   "execution_count": 43,
   "id": "c9c506d8",
   "metadata": {},
   "outputs": [],
   "source": [
    "# plotting parameter\n",
    "# font settings - recommendation from here: https://towardsdatascience.com/making-publication-quality-figures-in-python-part-i-fig-and-axes-d86c3903ad9b\n",
    "mpl.rcParams['pdf.fonttype']=42\n",
    "mpl.rcParams['ps.fonttype']=42\n",
    "mpl.rcParams['font.family']='Arial'\n",
    "\n",
    "# width and hight is given in inch \n",
    "# -> APA says a one column figure should be 2-3.25 inches and a two column figure should be 4.25-6.875 inches\n",
    "one_col_width = 3.25\n",
    "two_col_width = 6.875\n",
    "# linewidth and markersize\n",
    "linewidth = 2\n",
    "markersize = 5\n",
    "# fontsizes -> must be 8-14\n",
    "titlefont = 14\n",
    "labelfont = 12\n",
    "legend_titlefont = 10\n",
    "legendfont = 8\n",
    "tickfont = 8"
   ]
  },
  {
   "cell_type": "code",
   "execution_count": 30,
   "id": "4be23ae2",
   "metadata": {},
   "outputs": [],
   "source": [
    "pre_post_maineffect = pd.read_csv(os.path.join(DATA_DIR,'pre_post_maineffect.csv'))\n",
    "pre_post_maineffect.to_excel('univar_roi_prepost.xlsx')"
   ]
  },
  {
   "cell_type": "code",
   "execution_count": 23,
   "id": "a03ef503",
   "metadata": {},
   "outputs": [],
   "source": [
    "effect_maineffect = pd.read_csv(os.path.join(DATA_DIR,'effect_maineffect.csv'))\n",
    "effect_maineffect.to_excel('univar_roi_mageffect.xlsx')"
   ]
  },
  {
   "cell_type": "code",
   "execution_count": 34,
   "id": "8d6c2748",
   "metadata": {},
   "outputs": [],
   "source": [
    "interaction_effect = pd.read_csv(os.path.join(DATA_DIR,'interaction.csv'))\n",
    "interaction_effect.to_excel('univar_roi_interaction.xlsx')"
   ]
  },
  {
   "cell_type": "code",
   "execution_count": 39,
   "id": "607b46b0",
   "metadata": {},
   "outputs": [
    {
     "name": "stdout",
     "output_type": "stream",
     "text": [
      "Inspecting LO_effect_post_hoc.csv\n",
      "Inspecting V1_effect_post_hoc.csv\n",
      "Inspecting V2_effect_post_hoc.csv\n",
      "Inspecting V3_effect_post_hoc.csv\n",
      "Inspecting VAN_effect_post_hoc.csv\n",
      "Inspecting VO_effect_post_hoc.csv\n",
      "Inspecting aINSULA_effect_post_hoc.csv\n",
      "Inspecting hV4_effect_post_hoc.csv\n"
     ]
    }
   ],
   "source": [
    "eff_posthoc = glob.glob(os.path.join(DATA_DIR,'*effect_post_hoc.csv'))\n",
    "eff_posthoc.sort()\n",
    "for eff in eff_posthoc:\n",
    "    print('Inspecting {}'.format(os.path.basename(eff)))\n",
    "    res = pd.read_csv(eff)\n",
    "    #print(res)\n",
    "    res.to_excel(os.path.basename(eff)[:-4]+'.xlsx')"
   ]
  },
  {
   "cell_type": "code",
   "execution_count": 40,
   "id": "b03752ba",
   "metadata": {},
   "outputs": [
    {
     "name": "stdout",
     "output_type": "stream",
     "text": [
      "Inspecting PCC_interaction_post_hoc.csv\n",
      "Inspecting IFG_interaction_post_hoc.csv\n"
     ]
    }
   ],
   "source": [
    "param_interactions = glob.glob(os.path.join(DATA_DIR,'*interaction_post_hoc.csv'))\n",
    "for interaction in param_interactions:\n",
    "    print('Inspecting {}'.format(os.path.basename(interaction)))\n",
    "    res = pd.read_csv(interaction)\n",
    "    #print(res)\n",
    "    res.to_excel(os.path.basename(interaction)[:-4]+'.xlsx')"
   ]
  },
  {
   "cell_type": "code",
   "execution_count": 41,
   "id": "7baedc51",
   "metadata": {},
   "outputs": [
    {
     "name": "stdout",
     "output_type": "stream",
     "text": [
      "Inspecting V3A_wilcox_interaction.csv\n",
      "Inspecting IFJ_wilcox_interaction.csv\n",
      "Inspecting PHT_wilcox_interaction.csv\n",
      "Inspecting DMN_wilcox_interaction.csv\n",
      "Inspecting IPS_wilcox_interaction.csv\n",
      "Inspecting PF_wilcox_interaction.csv\n",
      "Inspecting visual_wilcox_interaction.csv\n",
      "Inspecting V3B_wilcox_interaction.csv\n",
      "Inspecting DAN_wilcox_interaction.csv\n"
     ]
    }
   ],
   "source": [
    "non_param_interactions = glob.glob(os.path.join(DATA_DIR,'*wilcox_interaction.csv'))\n",
    "for interaction in non_param_interactions:\n",
    "    print('Inspecting {}'.format(os.path.basename(interaction)))\n",
    "    res = pd.read_csv(interaction)\n",
    "    #print(res)\n",
    "    res.to_excel(os.path.basename(interaction)[:-4]+'.xlsx')"
   ]
  },
  {
   "cell_type": "code",
   "execution_count": 15,
   "id": "15e78f07",
   "metadata": {},
   "outputs": [],
   "source": [
    "# multidimensional scaling of univariate ROI results\n",
    "# the dimensions are effect x pre-post (=6 dimensions)\n",
    "\n",
    "#------------------------------------------------------------#\n",
    "# read in data frame containing ROI values for each subject and condition\n",
    "data_frame = pd.read_csv(os.path.join(DATA_DIR,'prepared_dataframe.csv'))\n",
    "\n",
    "avg_dict = {}\n",
    "for roi in ROIS:\n",
    "    avg_dict[roi]=[]\n",
    "    for eff in EFFECTS:\n",
    "        for pp in PRE_POST:\n",
    "            x = data_frame[roi][(data_frame.pre_post==pp)&(data_frame.Effect==eff)].mean()\n",
    "            avg_dict[roi].append(x)\n",
    "            \n",
    "avg_df = pd.DataFrame(data=avg_dict,columns=avg_dict.keys())"
   ]
  },
  {
   "cell_type": "code",
   "execution_count": 54,
   "id": "4a48a7fb",
   "metadata": {
    "scrolled": false
   },
   "outputs": [
    {
     "data": {
      "image/png": "[encoded data removed]",
      "text/plain": [
       "<Figure size 330x234 with 1 Axes>"
      ]
     },
     "metadata": {
      "needs_background": "light"
     },
     "output_type": "display_data"
    }
   ],
   "source": [
    "linked = linkage(y=avg_df.T, method='average', metric='correlation')\n",
    "labelList = ROIS\n",
    "\n",
    "fig = plt.figure(figsize=(two_col_width*2/3, one_col_width))\n",
    "dendrogram(linked,\n",
    "            orientation='top',\n",
    "            labels=labelList,\n",
    "            distance_sort='descending',\n",
    "            show_leaf_counts=True)\n",
    "plt.xlabel('Regions of Interest',fontsize=labelfont)\n",
    "plt.ylabel('Correlation distance',fontsize=labelfont)\n",
    "plt.xticks(rotation=45, fontsize=tickfont)\n",
    "plt.yticks(fontsize=tickfont)\n",
    "fig.savefig('dendrogram.eps',format = 'eps',bbox_inches='tight')"
   ]
  },
  {
   "cell_type": "code",
   "execution_count": 6,
   "id": "086070b8",
   "metadata": {
    "scrolled": false
   },
   "outputs": [
    {
     "data": {
      "image/png": "[encoded data removed]",
      "text/plain": [
       "<Figure size 432x288 with 2 Axes>"
      ]
     },
     "metadata": {
      "needs_background": "light"
     },
     "output_type": "display_data"
    }
   ],
   "source": [
    "corr_dists = []\n",
    "for name1, values1 in avg_df.iteritems():\n",
    "    for name2, values2 in avg_df.iteritems():\n",
    "        corr_dists.append(pearsonr(values1,values2)[0])\n",
    "        \n",
    "corr_dist_matrix = 1-np.array(corr_dists).reshape(len(ROIS),len(ROIS))\n",
    "\n",
    "fig = plt.figure()\n",
    "plt.imshow(corr_dist_matrix)\n",
    "plt.colorbar()\n",
    "plt.xticks(range(len(ROIS)),ROIS, fontsize=20, rotation=45)\n",
    "plt.yticks(range(len(ROIS)),ROIS, fontsize=20);"
   ]
  }
 ],
 "metadata": {
  "kernelspec": {
   "display_name": "Python 3 (ipykernel)",
   "language": "python",
   "name": "python3"
  },
  "language_info": {
   "codemirror_mode": {
    "name": "ipython",
    "version": 3
   },
   "file_extension": ".py",
   "mimetype": "text/x-python",
   "name": "python",
   "nbconvert_exporter": "python",
   "pygments_lexer": "ipython3",
   "version": "3.8.11"
  }
 },
 "nbformat": 4,
 "nbformat_minor": 5
}
