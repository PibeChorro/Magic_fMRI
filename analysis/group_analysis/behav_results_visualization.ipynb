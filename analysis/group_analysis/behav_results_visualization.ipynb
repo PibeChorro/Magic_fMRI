{
 "cells": [
  {
   "cell_type": "code",
   "execution_count": 41,
   "id": "1335f7a9",
   "metadata": {},
   "outputs": [],
   "source": [
    "# FIRST STEP\n",
    "# interact with the operating system \n",
    "import os\n",
    "from pathlib import Path\n",
    "import git\n",
    "import glob\n",
    "import csv\n",
    "# data structuration and calculations\n",
    "import pandas as pd  # to create data frames\n",
    "import numpy as np   # most important numerical calculations\n",
    "import pingouin as pg\n",
    "# needed to extract the run number out of the parentesis of the string in the SPM.mat file\n",
    "import re\n",
    "# plotting\n",
    "import matplotlib as mpl\n",
    "import matplotlib.pyplot as plt"
   ]
  },
  {
   "cell_type": "code",
   "execution_count": 3,
   "id": "2746fd18",
   "metadata": {},
   "outputs": [],
   "source": [
    "################################################\n",
    "# VARIABLES FOR PATH SELECTION AND DATA ACCESS #\n",
    "################################################\n",
    "HOME            = str(Path.home())\n",
    "# DATA\n",
    "STIM_DIR = os.path.join(HOME,'Documents/Magic_fMRI/Stimuli')\n",
    "PROJ_DIR        = os.path.join(HOME, 'Documents/Magic_fMRI/DATA/MRI')\n",
    "RAW_DIR         = os.path.join(PROJ_DIR, 'rawdata')\n",
    "DERIVATIVES_DIR = os.path.join(PROJ_DIR, 'derivatives')\n",
    "DATA_DIR = os.path.join(DERIVATIVES_DIR, 'univariate-ROI', 'SpecialMoment', 'EveryVideo')"
   ]
  },
  {
   "cell_type": "code",
   "execution_count": 4,
   "id": "54404b08",
   "metadata": {},
   "outputs": [],
   "source": [
    "#########################\n",
    "# SHOWING RESULT TABLES #\n",
    "#########################"
   ]
  },
  {
   "cell_type": "code",
   "execution_count": 5,
   "id": "bbe0fd95",
   "metadata": {},
   "outputs": [],
   "source": [
    "friedman_type = pd.read_csv(os.path.join(DATA_DIR,'friedman_type.csv'))\n",
    "friedman_type.to_excel('friedman_type.xlsx')"
   ]
  },
  {
   "cell_type": "code",
   "execution_count": 34,
   "id": "655ffbd3",
   "metadata": {},
   "outputs": [],
   "source": [
    "pre_post_wilcox = pd.read_csv(os.path.join(DATA_DIR,'pre_post_wilcoxon.csv'))\n",
    "pre_post_wilcox.to_excel('pre_post_wilcoxon.xlsx')"
   ]
  },
  {
   "cell_type": "code",
   "execution_count": 35,
   "id": "0bd3860d",
   "metadata": {},
   "outputs": [],
   "source": [
    "post_hoc_wilcox = pd.read_csv(os.path.join(DATA_DIR,'prepost_type_posthoc_wilcoxon.csv'))\n",
    "post_hoc_wilcox.to_excel('prepost_type_posthoc_wilcoxon.xlsx')"
   ]
  },
  {
   "cell_type": "code",
   "execution_count": 40,
   "id": "d7013898",
   "metadata": {},
   "outputs": [
    {
     "data": {
      "text/html": [
       "<div>\n",
       "<style scoped>\n",
       "    .dataframe tbody tr th:only-of-type {\n",
       "        vertical-align: middle;\n",
       "    }\n",
       "\n",
       "    .dataframe tbody tr th {\n",
       "        vertical-align: top;\n",
       "    }\n",
       "\n",
       "    .dataframe thead th {\n",
       "        text-align: right;\n",
       "    }\n",
       "</style>\n",
       "<table border=\"1\" class=\"dataframe\">\n",
       "  <thead>\n",
       "    <tr style=\"text-align: right;\">\n",
       "      <th></th>\n",
       "      <th>F Value</th>\n",
       "      <th>Num DF</th>\n",
       "      <th>Den DF</th>\n",
       "      <th>Pr &gt; F</th>\n",
       "    </tr>\n",
       "  </thead>\n",
       "  <tbody>\n",
       "    <tr>\n",
       "      <th>0</th>\n",
       "      <td>2.030</td>\n",
       "      <td>2.0</td>\n",
       "      <td>46.0</td>\n",
       "      <td>0.143</td>\n",
       "    </tr>\n",
       "    <tr>\n",
       "      <th>1</th>\n",
       "      <td>13.901</td>\n",
       "      <td>2.0</td>\n",
       "      <td>46.0</td>\n",
       "      <td>0.000</td>\n",
       "    </tr>\n",
       "    <tr>\n",
       "      <th>2</th>\n",
       "      <td>2.024</td>\n",
       "      <td>4.0</td>\n",
       "      <td>92.0</td>\n",
       "      <td>0.097</td>\n",
       "    </tr>\n",
       "  </tbody>\n",
       "</table>\n",
       "</div>"
      ],
      "text/plain": [
       "   F Value  Num DF  Den DF  Pr > F\n",
       "0    2.030     2.0    46.0   0.143\n",
       "1   13.901     2.0    46.0   0.000\n",
       "2    2.024     4.0    92.0   0.097"
      ]
     },
     "execution_count": 40,
     "metadata": {},
     "output_type": "execute_result"
    }
   ],
   "source": [
    "effect_object_rmANOVA = pd.read_csv(os.path.join(DATA_DIR,'effect_object_rmANOVA.csv'))\n",
    "effect_object_rmANOVA"
   ]
  },
  {
   "cell_type": "code",
   "execution_count": 41,
   "id": "8e3509d0",
   "metadata": {},
   "outputs": [
    {
     "data": {
      "text/html": [
       "<div>\n",
       "<style scoped>\n",
       "    .dataframe tbody tr th:only-of-type {\n",
       "        vertical-align: middle;\n",
       "    }\n",
       "\n",
       "    .dataframe tbody tr th {\n",
       "        vertical-align: top;\n",
       "    }\n",
       "\n",
       "    .dataframe thead th {\n",
       "        text-align: right;\n",
       "    }\n",
       "</style>\n",
       "<table border=\"1\" class=\"dataframe\">\n",
       "  <thead>\n",
       "    <tr style=\"text-align: right;\">\n",
       "      <th></th>\n",
       "      <th>Contrast</th>\n",
       "      <th>A</th>\n",
       "      <th>B</th>\n",
       "      <th>Paired</th>\n",
       "      <th>Parametric</th>\n",
       "      <th>T</th>\n",
       "      <th>dof</th>\n",
       "      <th>alternative</th>\n",
       "      <th>p-unc</th>\n",
       "      <th>p-corr</th>\n",
       "      <th>p-adjust</th>\n",
       "      <th>BF10</th>\n",
       "      <th>cohen</th>\n",
       "    </tr>\n",
       "  </thead>\n",
       "  <tbody>\n",
       "    <tr>\n",
       "      <th>0</th>\n",
       "      <td>Effect</td>\n",
       "      <td>Appear</td>\n",
       "      <td>Change</td>\n",
       "      <td>True</td>\n",
       "      <td>True</td>\n",
       "      <td>-4.429</td>\n",
       "      <td>23.0</td>\n",
       "      <td>two-sided</td>\n",
       "      <td>0.000</td>\n",
       "      <td>0.001</td>\n",
       "      <td>bonf</td>\n",
       "      <td>150.079</td>\n",
       "      <td>-0.485</td>\n",
       "    </tr>\n",
       "    <tr>\n",
       "      <th>1</th>\n",
       "      <td>Effect</td>\n",
       "      <td>Appear</td>\n",
       "      <td>Vanish</td>\n",
       "      <td>True</td>\n",
       "      <td>True</td>\n",
       "      <td>-3.873</td>\n",
       "      <td>23.0</td>\n",
       "      <td>two-sided</td>\n",
       "      <td>0.001</td>\n",
       "      <td>0.002</td>\n",
       "      <td>bonf</td>\n",
       "      <td>44.032</td>\n",
       "      <td>-0.442</td>\n",
       "    </tr>\n",
       "    <tr>\n",
       "      <th>2</th>\n",
       "      <td>Effect</td>\n",
       "      <td>Change</td>\n",
       "      <td>Vanish</td>\n",
       "      <td>True</td>\n",
       "      <td>True</td>\n",
       "      <td>0.560</td>\n",
       "      <td>23.0</td>\n",
       "      <td>two-sided</td>\n",
       "      <td>0.581</td>\n",
       "      <td>1.000</td>\n",
       "      <td>bonf</td>\n",
       "      <td>0.248</td>\n",
       "      <td>0.041</td>\n",
       "    </tr>\n",
       "  </tbody>\n",
       "</table>\n",
       "</div>"
      ],
      "text/plain": [
       "  Contrast       A       B  Paired  Parametric      T   dof alternative  \\\n",
       "0   Effect  Appear  Change    True        True -4.429  23.0   two-sided   \n",
       "1   Effect  Appear  Vanish    True        True -3.873  23.0   two-sided   \n",
       "2   Effect  Change  Vanish    True        True  0.560  23.0   two-sided   \n",
       "\n",
       "   p-unc  p-corr p-adjust     BF10  cohen  \n",
       "0  0.000   0.001     bonf  150.079 -0.485  \n",
       "1  0.001   0.002     bonf   44.032 -0.442  \n",
       "2  0.581   1.000     bonf    0.248  0.041  "
      ]
     },
     "execution_count": 41,
     "metadata": {},
     "output_type": "execute_result"
    }
   ],
   "source": [
    "post_hoc_effect_res = pd.read_csv(os.path.join(DATA_DIR,'post_hoc_Eff_results.csv'))\n",
    "post_hoc_effect_res"
   ]
  },
  {
   "cell_type": "code",
   "execution_count": 42,
   "id": "c2bf71d0",
   "metadata": {},
   "outputs": [
    {
     "data": {
      "text/html": [
       "<div>\n",
       "<style scoped>\n",
       "    .dataframe tbody tr th:only-of-type {\n",
       "        vertical-align: middle;\n",
       "    }\n",
       "\n",
       "    .dataframe tbody tr th {\n",
       "        vertical-align: top;\n",
       "    }\n",
       "\n",
       "    .dataframe thead th {\n",
       "        text-align: right;\n",
       "    }\n",
       "</style>\n",
       "<table border=\"1\" class=\"dataframe\">\n",
       "  <thead>\n",
       "    <tr style=\"text-align: right;\">\n",
       "      <th></th>\n",
       "      <th>T</th>\n",
       "      <th>dof</th>\n",
       "      <th>alternative</th>\n",
       "      <th>p-val</th>\n",
       "      <th>CI95%</th>\n",
       "      <th>cohen-d</th>\n",
       "      <th>BF10</th>\n",
       "      <th>power</th>\n",
       "      <th>PrePost</th>\n",
       "    </tr>\n",
       "  </thead>\n",
       "  <tbody>\n",
       "    <tr>\n",
       "      <th>0</th>\n",
       "      <td>5.531</td>\n",
       "      <td>23</td>\n",
       "      <td>greater</td>\n",
       "      <td>0.000</td>\n",
       "      <td>[0.64  inf]</td>\n",
       "      <td>1.271</td>\n",
       "      <td>3511.567</td>\n",
       "      <td>1.000</td>\n",
       "      <td>all</td>\n",
       "    </tr>\n",
       "    <tr>\n",
       "      <th>1</th>\n",
       "      <td>6.371</td>\n",
       "      <td>23</td>\n",
       "      <td>greater</td>\n",
       "      <td>0.000</td>\n",
       "      <td>[0.94  inf]</td>\n",
       "      <td>1.667</td>\n",
       "      <td>22200.000</td>\n",
       "      <td>1.000</td>\n",
       "      <td>pre</td>\n",
       "    </tr>\n",
       "    <tr>\n",
       "      <th>2</th>\n",
       "      <td>3.492</td>\n",
       "      <td>23</td>\n",
       "      <td>greater</td>\n",
       "      <td>0.001</td>\n",
       "      <td>[0.29  inf]</td>\n",
       "      <td>0.738</td>\n",
       "      <td>38.869</td>\n",
       "      <td>0.969</td>\n",
       "      <td>post</td>\n",
       "    </tr>\n",
       "  </tbody>\n",
       "</table>\n",
       "</div>"
      ],
      "text/plain": [
       "       T  dof alternative  p-val        CI95%  cohen-d       BF10  power  \\\n",
       "0  5.531   23     greater  0.000  [0.64  inf]    1.271   3511.567  1.000   \n",
       "1  6.371   23     greater  0.000  [0.94  inf]    1.667  22200.000  1.000   \n",
       "2  3.492   23     greater  0.001  [0.29  inf]    0.738     38.869  0.969   \n",
       "\n",
       "  PrePost  \n",
       "0     all  \n",
       "1     pre  \n",
       "2    post  "
      ]
     },
     "execution_count": 42,
     "metadata": {},
     "output_type": "execute_result"
    }
   ],
   "source": [
    "appear_surprise_ttest_res = pd.read_csv(os.path.join(DATA_DIR,'appear_surprise_ttest_res.csv'))\n",
    "appear_surprise_ttest_res"
   ]
  },
  {
   "cell_type": "code",
   "execution_count": 89,
   "id": "1a3192c3",
   "metadata": {},
   "outputs": [],
   "source": [
    "# plotting parameter\n",
    "# font settings - recommendation from here: https://towardsdatascience.com/making-publication-quality-figures-in-python-part-i-fig-and-axes-d86c3903ad9b\n",
    "mpl.rcParams['pdf.fonttype']=42\n",
    "mpl.rcParams['ps.fonttype']=42\n",
    "mpl.rcParams['font.family']='Arial'\n",
    "\n",
    "# width and hight is given in inch \n",
    "# -> APA says a one column figure should be 2-3.25 inches and a two column figure should be 4.25-6.875 inches\n",
    "one_col_width = 3.25\n",
    "two_col_width = 6.875\n",
    "# linewidth and markersize\n",
    "linewidth = 2\n",
    "markersize = 5\n",
    "# fontsizes -> must be 8-14\n",
    "titlefont = 14\n",
    "labelfont = 12\n",
    "legend_titlefont = 10\n",
    "legendfont = 8\n",
    "tickfont = 8"
   ]
  },
  {
   "cell_type": "code",
   "execution_count": 42,
   "id": "d1329fde",
   "metadata": {},
   "outputs": [],
   "source": [
    "####################\n",
    "# PLOTTING RESULTS #\n",
    "####################\n",
    "# The IVs and their levels we need\n",
    "VIDEO_TYPE = [\n",
    "    'Magic',\n",
    "    'Control',\n",
    "    'Surprise'\n",
    "]\n",
    "\n",
    "EFFECTS = [\n",
    "    'Appear',\n",
    "    'Change',\n",
    "    'Vanish'\n",
    "]"
   ]
  },
  {
   "cell_type": "code",
   "execution_count": 95,
   "id": "04885b96",
   "metadata": {},
   "outputs": [],
   "source": [
    "full_data_frame = pd.read_csv(filepath_or_buffer=os.path.join(DATA_DIR,'ratings_df.csv'))\n",
    "na_removed = full_data_frame.pivot_table(index='ids',\n",
    "                                         values='Ratings',\n",
    "                                         columns=['PrePost', 'Type'],\n",
    "                                         aggfunc='mean',\n",
    "                                         dropna=True,\n",
    "                                         fill_value=None)\n",
    "na_removed = na_removed.melt(ignore_index=False, value_name = 'Ratings').reset_index()"
   ]
  },
  {
   "cell_type": "code",
   "execution_count": 100,
   "id": "85121b8a",
   "metadata": {
    "scrolled": false
   },
   "outputs": [
    {
     "data": {
      "image/png": "[encoded data removed]",
      "text/plain": [
       "<Figure size 108x108 with 1 Axes>"
      ]
     },
     "metadata": {
      "needs_background": "light"
     },
     "output_type": "display_data"
    }
   ],
   "source": [
    "COLORS = ['blue', 'orange', 'green']\n",
    "offset = [-.02,0,.02]\n",
    "x = np.array([0,1])\n",
    "fig = plt.figure(figsize=(one_col_width/2,one_col_width/2))\n",
    "for c,vid_type in enumerate(VIDEO_TYPE):\n",
    "    rating_pre = na_removed.loc[:,'Ratings'][(na_removed.Type==vid_type)&\n",
    "                                             (na_removed.PrePost==0)]\n",
    "    rating_post = na_removed.loc[:,'Ratings'][(na_removed.Type==vid_type)&\n",
    "                                              (na_removed.PrePost==1)]\n",
    "    pre_post_median  = [rating_pre.median(),rating_post.median()]\n",
    "    pre_post_median  = np.array(pre_post_median)\n",
    "    pre_quantiles = rating_pre.quantile([.25,.75])\n",
    "    post_quantiles = rating_post.quantile([.25,.75])\n",
    "    \n",
    "    \n",
    "    plt.plot(x+offset[c],\n",
    "            pre_post_median, \n",
    "             color=COLORS[c], \n",
    "             label=vid_type,\n",
    "             linewidth=linewidth,\n",
    "            solid_capstyle='round')\n",
    "    plt.plot(x+offset[c],\n",
    "            pre_post_median, \n",
    "             color=COLORS[c], \n",
    "             marker='o',\n",
    "             markersize=markersize)\n",
    "    plt.vlines(x=0+offset[c], \n",
    "               ymin=pre_quantiles.values[0],\n",
    "               ymax=pre_quantiles.values[1],\n",
    "               colors=COLORS[c],\n",
    "               linewidth=linewidth,)\n",
    "    plt.vlines(x=1+offset[c], \n",
    "               ymin=post_quantiles.values[0],\n",
    "               ymax=post_quantiles.values[1],\n",
    "               colors=COLORS[c],\n",
    "               linewidth=linewidth)\n",
    "    # plt.fill_between([0,1], upper, lower, alpha=0.2)\n",
    "\n",
    "plt.ylabel('Surprise ratings', fontsize=labelfont)\n",
    "plt.xlabel('Before vs After revelation', fontsize=labelfont)\n",
    "plt.xticks(ticks=[0,1], labels=['Before', 'After'],fontsize=tickfont)\n",
    "plt.yticks(fontsize=tickfont)\n",
    "legend = plt.legend(title='Legend', \n",
    "                    frameon=False,\n",
    "                    bbox_to_anchor=(2,1), \n",
    "                    borderaxespad=0,\n",
    "                    loc='upper right', \n",
    "                    fontsize=legendfont);\n",
    "\n",
    "plt.setp(legend.get_title(), fontsize=legend_titlefont);\n",
    "fig.savefig('Rating.eps',format = 'eps',bbox_inches='tight')"
   ]
  },
  {
   "cell_type": "code",
   "execution_count": 101,
   "id": "0c474ff1",
   "metadata": {},
   "outputs": [],
   "source": [
    "magic_df = full_data_frame[full_data_frame.Type=='Magic']\n",
    "na_removed = magic_df.pivot_table(index='ids',\n",
    "                                 values='Ratings',\n",
    "                                 columns=['Effect', 'Objects'],\n",
    "                                 aggfunc='mean',\n",
    "                                 dropna=True,\n",
    "                                 fill_value=None)\n",
    "na_removed = na_removed.melt(ignore_index=False, value_name = 'Ratings').reset_index()"
   ]
  },
  {
   "cell_type": "code",
   "execution_count": 102,
   "id": "57d292cb",
   "metadata": {
    "scrolled": false
   },
   "outputs": [
    {
     "data": {
      "image/png": "[encoded data removed]",
      "text/plain": [
       "<Figure size 108x108 with 1 Axes>"
      ]
     },
     "metadata": {
      "needs_background": "light"
     },
     "output_type": "display_data"
    }
   ],
   "source": [
    "fig = plt.figure(figsize=(one_col_width/2,one_col_width/2))\n",
    "eff_values  = []\n",
    "eff_sems    = []\n",
    "for eff in EFFECTS:\n",
    "    eff_ratings = na_removed.loc[:,'Ratings'][(na_removed.Effect==eff)]\n",
    "    eff_values.append(eff_ratings.mean())\n",
    "    eff_sems.append(eff_ratings.sem())\n",
    "    \n",
    "eff_values  = np.array(eff_values)\n",
    "eff_sems    = np.array(eff_sems)\n",
    "upper = eff_values+eff_sems\n",
    "lower = eff_values-eff_sems\n",
    "plt.plot(eff_values, 'o', markersize=markersize, color='blue')\n",
    "plt.vlines(x=0, \n",
    "           ymin=lower[0], \n",
    "           ymax=upper[0], \n",
    "           colors='blue',\n",
    "           linewidth=linewidth)\n",
    "plt.vlines(x=1, \n",
    "           ymin=lower[1], \n",
    "           ymax=upper[1],\n",
    "           colors='blue',\n",
    "           linewidth=linewidth)\n",
    "plt.vlines(x=2, \n",
    "           ymin=lower[2], \n",
    "           ymax=upper[2],\n",
    "           colors='blue',\n",
    "           linewidth=linewidth)\n",
    "\n",
    "plt.xticks([0,1,2],\n",
    "           labels=['Appear','Change','Vanish'], \n",
    "           fontsize=tickfont)\n",
    "plt.yticks(fontsize=tickfont)\n",
    "\n",
    "plt.ylabel('Surprise ratings', fontsize=labelfont)\n",
    "plt.xlabel('Magic effect before revelation', fontsize=labelfont);\n",
    "\n",
    "fig.savefig('EffectRating.eps',format = 'eps',bbox_inches='tight')"
   ]
  }
 ],
 "metadata": {
  "kernelspec": {
   "display_name": "Python 3 (ipykernel)",
   "language": "python",
   "name": "python3"
  },
  "language_info": {
   "codemirror_mode": {
    "name": "ipython",
    "version": 3
   },
   "file_extension": ".py",
   "mimetype": "text/x-python",
   "name": "python",
   "nbconvert_exporter": "python",
   "pygments_lexer": "ipython3",
   "version": "3.8.11"
  }
 },
 "nbformat": 4,
 "nbformat_minor": 5
}
