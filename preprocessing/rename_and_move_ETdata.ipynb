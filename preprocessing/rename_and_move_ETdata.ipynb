{
 "cells": [
  {
   "cell_type": "code",
   "execution_count": 1,
   "id": "82c0a89b",
   "metadata": {},
   "outputs": [],
   "source": [
    "#!/gpfs01/bartels/user/vplikat/anaconda3/bin/python\n",
    "\n",
    "##########\n",
    "# HEADER #\n",
    "##########\n",
    "# The data for this script is derived from an fMRI experiment in which\n",
    "# subjects viewed different videos. Either magic, control or surprise videos. \n",
    "# The experiment was devided into 3 blocks. Each block consisted of 4 \n",
    "# experimental runs. In each run subjects viewed 24 videos (each video is \n",
    "# considered a trial).\n",
    "# The videos in each block were associated with one object (Balls, Cards and \n",
    "# Sticks) and there were 3 magic effects (Appear, Change and Vanish). For each\n",
    "# magic effect and object there are two trick versions (i.e. Appear1, Appear2,\n",
    "# Change1,...). This resulted in 6 magic videos per object = 18 magic videos \n",
    "# and for every magic video there was a corresponding control video showing\n",
    "# the same movements without the magical effect. Additionally per object there\n",
    "# were 3 surprise videos showing unusual surprising actions performed with the\n",
    "# objects (e.g. eating a playing card).\n",
    "# After the second run in each block the underlying method behind each magic \n",
    "# trick was presented.\n",
    "\n",
    "#                       TIME\n",
    "#   ---------------------------------->\n",
    "#   OBJECT1 R1  R2  Revelation  R3  R4  |\n",
    "#   OBJECT2 R1  R2  Revelation  R3  R4  |   TIME\n",
    "#   OBJECT3 R1  R2  Revelation  R3  R4  v\n",
    "\n",
    "# RUNS: 2*Appear1 Magic 2*Appear2 Magic 2*Appear1 Control 2*Appear2 Control\n",
    "#       2*Vanish1 Magic 2*Vanish2 Magic 2*Vanish1 Control 2*Vanish2 Control\n",
    "#       2*Change1 Magic 2*Change2 Magic 2*Change1 Control 2*Change2 Control\n",
    "#       2*Surprise1     2*Surprise2     2*Surprise13\n",
    "#       = 24 Videos\n",
    "\n",
    "# The aim of the experiment was to find neural correlates of surprise and in \n",
    "# particular of surprising events we consider \"impossible\". \n",
    "# The data used are beta estimate NIfTI images derived from a GLM using SPM12 \n",
    "# in MATLAB. \n",
    "\n",
    "##########################\n",
    "# PURPOSE OF THIS SCRIPT #\n",
    "##########################\n",
    "# The purpose of this script is to look into the eyetracking data and check \n",
    "# if subjects fixated at the same position during the special moment pre vs post\n",
    "# revelation\n",
    "\n",
    "################################\n",
    "# FUNCTIONALITY OF THIS SCRIPT #\n",
    "################################\n",
    "# Additionally move the edf files to sourcedata\n",
    "# FIRST STEP \n",
    "# Import all libraries needed and get all important path information\n",
    "# EXTRA STEP\n",
    "# Needs to be done once !!!\n",
    "# Copy the ascii files from the 'derivatives/EyeTracking' directory to 'rawdata'\n",
    "# In that step change the name of the file from s<subject>b<block>r<run>.asc to\n",
    "# sub-<subject>_task-magic_run-<run>_recording-eyetracking_physio.asc\n",
    "# (maybe add a json file)\n",
    "# SECOND STEP \n",
    "# Read in the info_MagicMoment.mat file created by author VP that contains the\n",
    "# specific frame of the special moment.\n",
    "# Read in the event.tsv files and the eyetracking ascii files \n",
    "# From the event files get the video presented, select the coresponding timepoint\n",
    "# from the mat file and the fixation\n",
    "# THIRD STEP\n",
    "# Pool the fixation points of the magic moment +- some slack time for each subject\n",
    "# and trial. \n",
    "# FOURTH STEP\n",
    "# Do some plotting"
   ]
  },
  {
   "cell_type": "code",
   "execution_count": 2,
   "id": "172a0639",
   "metadata": {},
   "outputs": [],
   "source": [
    "# FIRST STEP\n",
    "# interact with the operating system \n",
    "import os\n",
    "from pathlib import Path\n",
    "import shutil\n",
    "import git\n",
    "import glob\n",
    "# import/export data\n",
    "import h5py\n",
    "# data structuration and calculations\n",
    "import pandas as pd  # to create data frames\n",
    "import numpy as np   # most important numerical calculations\n",
    "# read in mat files\n",
    "import readmat\n",
    "# needed to extract the run number out of the parentesis of the string in the SPM.mat file\n",
    "import re\n",
    "# optimize time performance\n",
    "import time\n",
    "# plotting\n",
    "import matplotlib.pyplot as plt"
   ]
  },
  {
   "cell_type": "code",
   "execution_count": 12,
   "id": "ff505e1c",
   "metadata": {},
   "outputs": [],
   "source": [
    "################################################\n",
    "# VARIABLES FOR PATH SELECTION AND DATA ACCESS #\n",
    "################################################\n",
    "HOME            = str(Path.home())\n",
    "PROJ_DIR        = os.path.join(HOME, 'Documents/Magic_fMRI/DATA/MRI')\n",
    "RAW_DIR         = os.path.join(PROJ_DIR, 'rawdata')\n",
    "DERIVATIVES_DIR = os.path.join(PROJ_DIR, 'derivatives')\n",
    "ET_DIR = os.path.join(DERIVATIVES_DIR, 'eyetracking')\n",
    "SUBJECS = glob.glob(os.path.join(RAW_DIR, 'sub*'))\n",
    "SUBJECS.sort()"
   ]
  },
  {
   "cell_type": "code",
   "execution_count": 16,
   "id": "bfed6bb6",
   "metadata": {},
   "outputs": [
    {
     "data": {
      "text/plain": [
       "['/gpfs01/bartels/user/vplikat/Documents/Magic_fMRI/DATA/MRI/derivatives/eyetracking/sub-07']"
      ]
     },
     "execution_count": 16,
     "metadata": {},
     "output_type": "execute_result"
    }
   ],
   "source": [
    "ET_SUBS"
   ]
  },
  {
   "cell_type": "code",
   "execution_count": 15,
   "id": "fc6636be",
   "metadata": {},
   "outputs": [],
   "source": [
    "# EXTRA STEP (if completed move down to the end and somehow document the step)\n",
    "ET_SUBS = glob.glob(os.path.join(ET_DIR,'sub-07'))\n",
    "ET_SUBS.sort()\n",
    "for s, sub in enumerate(ET_SUBS):\n",
    "    # get just the name of current subject without fullpath\n",
    "    sub_name = os.path.basename(sub)\n",
    "    # get all .asc files and move them (renamed) to raw\n",
    "    asc_files = glob.glob(os.path.join(sub,'*.asc'))\n",
    "    asc_files.sort()\n",
    "    for file in asc_files:\n",
    "        # ascii file look like that s1b2r5.asc\n",
    "        # s=subject (1-24) b=block (1-3) r=run (1-5)\n",
    "        # each block has five runs and shows videos of one object\n",
    "        # runs 1&2 are pre revelation runs, run 3 is the revelation, runs 4&5 are post revelation runs\n",
    "        # get subject, block and run index (sub index actually not important)\n",
    "        indices = list(map(int, re.findall(r'\\d+', os.path.basename(file))))\n",
    "        # if current file is one of the pre revelation runs, add four per passed block plus run index\n",
    "        if indices[2]<3:\n",
    "            run_index = (indices[1]-1)*4 + indices[2]\n",
    "        # else current file is one of the post revelation runs, add four per passed block plus run index -1 because in between there was the revelation run\n",
    "        else:\n",
    "            run_index = (indices[1]-1)*4 + indices[2]-1\n",
    "            \n",
    "        # sub-<subindex>...run-<runindex>\n",
    "        file_destination_name = 'sub-{:02d}_task-magic_run-{:02d}_recording-eyetracking_physio.asc'.format(indices[0], run_index)\n",
    "        dest_dir = os.path.join(RAW_DIR,'sub-{:02d}'.format(indices[0]),'func',file_destination_name)\n",
    "        # copy file to rawdata and rename it to file_destination_name\n",
    "        shutil.copy2(file, dest_dir)"
   ]
  }
 ],
 "metadata": {
  "kernelspec": {
   "display_name": "Python 3 (ipykernel)",
   "language": "python",
   "name": "python3"
  },
  "language_info": {
   "codemirror_mode": {
    "name": "ipython",
    "version": 3
   },
   "file_extension": ".py",
   "mimetype": "text/x-python",
   "name": "python",
   "nbconvert_exporter": "python",
   "pygments_lexer": "ipython3",
   "version": "3.8.11"
  }
 },
 "nbformat": 4,
 "nbformat_minor": 5
}
